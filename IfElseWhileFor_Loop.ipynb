{
 "cells": [
  {
   "cell_type": "code",
   "execution_count": 4,
   "id": "578e6e37-c0dc-4f5d-84fe-7058aaeab393",
   "metadata": {},
   "outputs": [
    {
     "ename": "IndentationError",
     "evalue": "expected an indented block after 'if' statement on line 2 (3115727030.py, line 3)",
     "output_type": "error",
     "traceback": [
      "\u001b[0;36m  Cell \u001b[0;32mIn[4], line 3\u001b[0;36m\u001b[0m\n\u001b[0;31m    print(\"Yes a is greater than 10\")\u001b[0m\n\u001b[0m    ^\u001b[0m\n\u001b[0;31mIndentationError\u001b[0m\u001b[0;31m:\u001b[0m expected an indented block after 'if' statement on line 2\n"
     ]
    }
   ],
   "source": [
    "a = 10\n",
    "if a>10 :\n",
    "print(\"Yes a is greater than 10\")"
   ]
  },
  {
   "cell_type": "code",
   "execution_count": 5,
   "id": "0fd28976-5973-46ed-9984-a14c6ea65a74",
   "metadata": {},
   "outputs": [],
   "source": [
    "a = 10\n",
    "if a>10 :\n",
    "    print(\"Yes a is greater than 10\")"
   ]
  },
  {
   "cell_type": "code",
   "execution_count": 6,
   "id": "0aa49753-7011-4c90-b182-36a4e80aac13",
   "metadata": {},
   "outputs": [
    {
     "name": "stdout",
     "output_type": "stream",
     "text": [
      "Yes a is greater than 10\n"
     ]
    }
   ],
   "source": [
    "a = 10\n",
    "if a>=10 :\n",
    "    print(\"Yes a is greater than 10\")"
   ]
  },
  {
   "cell_type": "code",
   "execution_count": 7,
   "id": "17041ebf-a10c-407d-bf56-3f8252c5b7e8",
   "metadata": {},
   "outputs": [
    {
     "data": {
      "text/plain": [
       "True"
      ]
     },
     "execution_count": 7,
     "metadata": {},
     "output_type": "execute_result"
    }
   ],
   "source": [
    "a >=10"
   ]
  },
  {
   "cell_type": "code",
   "execution_count": 10,
   "id": "b6b18444-809c-4ddd-84bf-9851b01cdf6e",
   "metadata": {},
   "outputs": [],
   "source": [
    "b= 20\n",
    "if b>30 :\n",
    "    print(\"Yes B is greater than 30\")"
   ]
  },
  {
   "cell_type": "code",
   "execution_count": 11,
   "id": "43a72da7-45bf-45e2-a0ef-e54e553a1434",
   "metadata": {},
   "outputs": [
    {
     "data": {
      "text/plain": [
       "False"
      ]
     },
     "execution_count": 11,
     "metadata": {},
     "output_type": "execute_result"
    }
   ],
   "source": [
    "b>30"
   ]
  },
  {
   "cell_type": "code",
   "execution_count": 15,
   "id": "91906670-7215-44a7-a2a8-d4f78fa3a26e",
   "metadata": {},
   "outputs": [
    {
     "name": "stdout",
     "output_type": "stream",
     "text": [
      "This is my default\n"
     ]
    }
   ],
   "source": [
    "b= 20\n",
    "if b>30 :\n",
    "    print(\"Yes B is greater than 30\")\n",
    "elif b>40 :\n",
    "    print(\"Yes b is lesser than 40\")\n",
    "elif b > 100:\n",
    "    print(\"Yes B is greater than 100\")\n",
    "else :\n",
    "    print(\"This is my default\")\n",
    "    "
   ]
  },
  {
   "cell_type": "code",
   "execution_count": 16,
   "id": "f16ddfb2-9f79-481a-8b00-e0f21b5be0a8",
   "metadata": {},
   "outputs": [
    {
     "data": {
      "text/plain": [
       "False"
      ]
     },
     "execution_count": 16,
     "metadata": {},
     "output_type": "execute_result"
    }
   ],
   "source": [
    "b>40 "
   ]
  },
  {
   "cell_type": "code",
   "execution_count": 17,
   "id": "5b0e070a-996b-4908-8424-cffef849242d",
   "metadata": {},
   "outputs": [
    {
     "data": {
      "text/plain": [
       "True"
      ]
     },
     "execution_count": 17,
     "metadata": {},
     "output_type": "execute_result"
    }
   ],
   "source": [
    "b<40"
   ]
  },
  {
   "cell_type": "code",
   "execution_count": 18,
   "id": "66e5ba48-6610-4b75-a412-054fc777631e",
   "metadata": {},
   "outputs": [],
   "source": [
    "# Input function to enter the values by an user to enter a value and evaluate it "
   ]
  },
  {
   "cell_type": "code",
   "execution_count": 19,
   "id": "606feef1-4649-459c-b37d-462736a741a1",
   "metadata": {},
   "outputs": [
    {
     "name": "stdin",
     "output_type": "stream",
     "text": [
      " 320\n"
     ]
    },
    {
     "data": {
      "text/plain": [
       "'320'"
      ]
     },
     "execution_count": 19,
     "metadata": {},
     "output_type": "execute_result"
    }
   ],
   "source": [
    "input()"
   ]
  },
  {
   "cell_type": "code",
   "execution_count": 20,
   "id": "c8defea9-51ea-4870-9198-1adc63e49149",
   "metadata": {},
   "outputs": [],
   "source": [
    "# default it will accept the values in String data type since we nee dto compare with integer type so need to consider this "
   ]
  },
  {
   "cell_type": "code",
   "execution_count": 21,
   "id": "d0526394-d19a-41a7-9b09-8503ed898820",
   "metadata": {},
   "outputs": [
    {
     "name": "stdin",
     "output_type": "stream",
     "text": [
      " 45\n"
     ]
    }
   ],
   "source": [
    "b = int(input())"
   ]
  },
  {
   "cell_type": "code",
   "execution_count": 22,
   "id": "83aef2a7-5890-493d-a508-c8ea0a68c0b4",
   "metadata": {},
   "outputs": [
    {
     "data": {
      "text/plain": [
       "32"
      ]
     },
     "execution_count": 22,
     "metadata": {},
     "output_type": "execute_result"
    }
   ],
   "source": [
    "int('32')"
   ]
  },
  {
   "cell_type": "code",
   "execution_count": 23,
   "id": "24cd8978-1be4-4ef5-a5ed-1dd10132a130",
   "metadata": {},
   "outputs": [
    {
     "data": {
      "text/plain": [
       "45"
      ]
     },
     "execution_count": 23,
     "metadata": {},
     "output_type": "execute_result"
    }
   ],
   "source": [
    "b"
   ]
  },
  {
   "cell_type": "code",
   "execution_count": 24,
   "id": "391bd016-401c-443b-a86e-504d7374128e",
   "metadata": {},
   "outputs": [
    {
     "data": {
      "text/plain": [
       "int"
      ]
     },
     "execution_count": 24,
     "metadata": {},
     "output_type": "execute_result"
    }
   ],
   "source": [
    "type(b)"
   ]
  },
  {
   "cell_type": "code",
   "execution_count": 25,
   "id": "24ddfd05-d2a9-4059-92cc-baf67f17d82c",
   "metadata": {},
   "outputs": [
    {
     "name": "stdin",
     "output_type": "stream",
     "text": [
      " 2\n"
     ]
    },
    {
     "name": "stdout",
     "output_type": "stream",
     "text": [
      "This is my default\n"
     ]
    }
   ],
   "source": [
    "b= int(input())\n",
    "if b>30 :\n",
    "    print(\"Yes B is greater than 30\")\n",
    "elif b>40 :\n",
    "    print(\"Yes b is lesser than 40\")\n",
    "elif b > 100:\n",
    "    print(\"Yes B is greater than 100\")\n",
    "else :\n",
    "    print(\"This is my default\")"
   ]
  },
  {
   "cell_type": "code",
   "execution_count": 26,
   "id": "4de3a71d-51c2-42aa-938a-34dc9a3fcb07",
   "metadata": {},
   "outputs": [
    {
     "name": "stdin",
     "output_type": "stream",
     "text": [
      " 100\n"
     ]
    },
    {
     "name": "stdout",
     "output_type": "stream",
     "text": [
      "Yes B is greater than 30\n"
     ]
    }
   ],
   "source": [
    "b= int(input())\n",
    "if b>30 :\n",
    "    print(\"Yes B is greater than 30\")\n",
    "elif b>40 :\n",
    "    print(\"Yes b is lesser than 40\")\n",
    "elif b > 100:\n",
    "    print(\"Yes B is greater than 100\")\n",
    "else :\n",
    "    print(\"This is my default\")"
   ]
  },
  {
   "cell_type": "code",
   "execution_count": 27,
   "id": "aaf4d28f-de9b-4486-976f-3338e4574d9c",
   "metadata": {},
   "outputs": [],
   "source": [
    "# while Loop For Loop"
   ]
  },
  {
   "cell_type": "code",
   "execution_count": 31,
   "id": "fbf7a5cd-05c4-4f3b-8d7e-11ef847abab2",
   "metadata": {},
   "outputs": [
    {
     "name": "stdout",
     "output_type": "stream",
     "text": [
      "1\n",
      "2\n",
      "3\n"
     ]
    }
   ],
   "source": [
    "n= 4\n",
    "i= 1\n",
    "while i<n:\n",
    "    print(i)\n",
    "    i = i+1"
   ]
  },
  {
   "cell_type": "code",
   "execution_count": 32,
   "id": "9ed576fc-02db-40e2-8343-342aa1032733",
   "metadata": {},
   "outputs": [
    {
     "name": "stdout",
     "output_type": "stream",
     "text": [
      "1\n",
      "2\n",
      "3\n",
      "This is my Else\n"
     ]
    }
   ],
   "source": [
    "n= 4\n",
    "i= 1\n",
    "while i<n:\n",
    "    print(i)\n",
    "    i = i+1\n",
    "else :\n",
    "    print(\"This is my Else\")"
   ]
  },
  {
   "cell_type": "code",
   "execution_count": 33,
   "id": "cc0b905e-75c9-422d-a8d5-738d92ed1fd2",
   "metadata": {},
   "outputs": [
    {
     "name": "stdout",
     "output_type": "stream",
     "text": [
      "1\n",
      "2\n"
     ]
    }
   ],
   "source": [
    "n= 4\n",
    "i= 1\n",
    "while i<n:\n",
    "    print(i)\n",
    "    i = i+1\n",
    "    if i == 3:\n",
    "        break\n",
    "else :\n",
    "    print(\"This is my Else\")"
   ]
  },
  {
   "cell_type": "code",
   "execution_count": 34,
   "id": "b89d2576-cdd4-4b84-b51e-c4d0509635f7",
   "metadata": {},
   "outputs": [],
   "source": [
    "#For Loop\n"
   ]
  },
  {
   "cell_type": "code",
   "execution_count": 36,
   "id": "f289f259-62d0-49d2-b1e8-dbe55a81db5b",
   "metadata": {},
   "outputs": [
    {
     "name": "stdout",
     "output_type": "stream",
     "text": [
      "S\n",
      "u\n",
      "b\n",
      "r\n",
      "a\n",
      "t\n"
     ]
    }
   ],
   "source": [
    "s = 'Subrat'\n",
    "for i in s :\n",
    "    print(i)"
   ]
  },
  {
   "cell_type": "code",
   "execution_count": 38,
   "id": "9641af91-e07c-41da-b947-0afbde0a080e",
   "metadata": {},
   "outputs": [],
   "source": [
    "l = [2,3,4,5,6,'subrat','suna',32.5,(3+2j),True]"
   ]
  },
  {
   "cell_type": "code",
   "execution_count": 40,
   "id": "48c019f3-7918-4b93-b88f-676e70b44457",
   "metadata": {},
   "outputs": [
    {
     "name": "stdout",
     "output_type": "stream",
     "text": [
      "<class 'int'>\n",
      "<class 'int'>\n",
      "<class 'int'>\n",
      "<class 'int'>\n",
      "<class 'int'>\n",
      "<class 'str'>\n",
      "<class 'str'>\n",
      "<class 'float'>\n",
      "<class 'complex'>\n",
      "<class 'bool'>\n"
     ]
    }
   ],
   "source": [
    "for i in l:\n",
    "    print(type(i))"
   ]
  },
  {
   "cell_type": "code",
   "execution_count": 41,
   "id": "031658cb-a7d6-467d-82f9-a7497dd4a2bf",
   "metadata": {},
   "outputs": [
    {
     "name": "stdout",
     "output_type": "stream",
     "text": [
      "<class 'int'>\n",
      "<class 'int'>\n",
      "<class 'int'>\n",
      "<class 'int'>\n",
      "<class 'int'>\n",
      "<class 'str'>\n",
      "<class 'str'>\n",
      "<class 'float'>\n",
      "<class 'complex'>\n",
      "<class 'bool'>\n",
      "This will be executed successfully on Completion of For Loop\n"
     ]
    }
   ],
   "source": [
    "for i in l:\n",
    "    print(type(i))\n",
    "else :\n",
    "    print(\"This will be executed successfully on Completion of For Loop\")\n",
    "    "
   ]
  },
  {
   "cell_type": "code",
   "execution_count": 43,
   "id": "32161aeb-dd8d-4af9-930c-d58d7801a58d",
   "metadata": {},
   "outputs": [
    {
     "name": "stdout",
     "output_type": "stream",
     "text": [
      "<class 'int'>\n",
      "<class 'int'>\n",
      "<class 'int'>\n",
      "<class 'int'>\n",
      "<class 'int'>\n"
     ]
    }
   ],
   "source": [
    "for i in l:\n",
    "    print(type(i))\n",
    "    if i == 6 :\n",
    "           break\n",
    "else :\n",
    "    print(\"This will be executed successfully on Completion of For Loop\")"
   ]
  },
  {
   "cell_type": "code",
   "execution_count": 44,
   "id": "d801b28d-387b-4c9f-a598-181946823700",
   "metadata": {},
   "outputs": [
    {
     "name": "stdout",
     "output_type": "stream",
     "text": [
      "<class 'int'>\n",
      "<class 'int'>\n",
      "<class 'int'>\n",
      "<class 'int'>\n",
      "<class 'int'>\n",
      "<class 'str'>\n",
      "<class 'str'>\n",
      "<class 'float'>\n",
      "<class 'complex'>\n",
      "<class 'bool'>\n",
      "This will be executed successfully on Completion of For Loop\n"
     ]
    }
   ],
   "source": [
    "for i in l:\n",
    "    print(type(i))\n",
    "    if i == 6 :\n",
    "           continue # it is needed when we want to runa terminated statement and goes directly to for statement \n",
    "else :\n",
    "    print(\"This will be executed successfully on Completion of For Loop\")"
   ]
  },
  {
   "cell_type": "code",
   "execution_count": 48,
   "id": "c3ac9720-fcb6-4bdd-afbf-ee44856819b5",
   "metadata": {},
   "outputs": [
    {
     "name": "stdout",
     "output_type": "stream",
     "text": [
      "<class 'int'>\n",
      "2\n",
      "<class 'int'>\n",
      "3\n",
      "<class 'int'>\n",
      "4\n",
      "<class 'int'>\n",
      "5\n",
      "<class 'int'>\n",
      "<class 'str'>\n",
      "subrat\n",
      "<class 'str'>\n",
      "suna\n",
      "<class 'float'>\n",
      "32.5\n",
      "<class 'complex'>\n",
      "(3+2j)\n",
      "<class 'bool'>\n",
      "True\n",
      "This will be executed successfully on Completion of For Loop\n"
     ]
    }
   ],
   "source": [
    "for i in l:\n",
    "    print(type(i))\n",
    "    if i == 6 :\n",
    "           continue # it is needed when we want to runa terminated statement and goes directly to the for loop  \n",
    "    print(i)\n",
    "else :\n",
    "    print(\"This will be executed successfully on Completion of For Loop\")"
   ]
  },
  {
   "cell_type": "code",
   "execution_count": 49,
   "id": "3add7368-024a-40da-a57a-f3286718b765",
   "metadata": {},
   "outputs": [],
   "source": [
    "#Range generates data and can be seen when placed inside list or for loop , we have upper bound lower bound in this "
   ]
  },
  {
   "cell_type": "code",
   "execution_count": 50,
   "id": "8ed5dbf7-9a7e-4e5e-bad0-d8665912343c",
   "metadata": {},
   "outputs": [
    {
     "data": {
      "text/plain": [
       "range(0, 10)"
      ]
     },
     "execution_count": 50,
     "metadata": {},
     "output_type": "execute_result"
    }
   ],
   "source": [
    "range(10)"
   ]
  },
  {
   "cell_type": "code",
   "execution_count": 51,
   "id": "260c79a5-4469-41e3-8616-8abf0703c6fe",
   "metadata": {},
   "outputs": [
    {
     "data": {
      "text/plain": [
       "[0, 1, 2, 3, 4, 5, 6, 7, 8, 9]"
      ]
     },
     "execution_count": 51,
     "metadata": {},
     "output_type": "execute_result"
    }
   ],
   "source": [
    "list(range(10))"
   ]
  },
  {
   "cell_type": "code",
   "execution_count": null,
   "id": "9c2589da-9d1d-4745-a1c8-c9f1538f57d4",
   "metadata": {},
   "outputs": [],
   "source": []
  }
 ],
 "metadata": {
  "kernelspec": {
   "display_name": "Python 3 (ipykernel)",
   "language": "python",
   "name": "python3"
  },
  "language_info": {
   "codemirror_mode": {
    "name": "ipython",
    "version": 3
   },
   "file_extension": ".py",
   "mimetype": "text/x-python",
   "name": "python",
   "nbconvert_exporter": "python",
   "pygments_lexer": "ipython3",
   "version": "3.10.8"
  }
 },
 "nbformat": 4,
 "nbformat_minor": 5
}
