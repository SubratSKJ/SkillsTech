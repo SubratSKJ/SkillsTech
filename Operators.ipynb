{
 "cells": [
  {
   "cell_type": "code",
   "execution_count": 1,
   "id": "5fa5071d-c769-4d52-9afe-0081cf5d14aa",
   "metadata": {},
   "outputs": [],
   "source": [
    "# FIrst is Airithmetic Operator"
   ]
  },
  {
   "cell_type": "code",
   "execution_count": 2,
   "id": "c514e760-801c-4079-ae55-3bd2dd5890f2",
   "metadata": {},
   "outputs": [
    {
     "data": {
      "text/plain": [
       "3"
      ]
     },
     "execution_count": 2,
     "metadata": {},
     "output_type": "execute_result"
    }
   ],
   "source": [
    "1+2"
   ]
  },
  {
   "cell_type": "code",
   "execution_count": 3,
   "id": "5006a2f4-d310-428f-9aec-8c220ddceedb",
   "metadata": {},
   "outputs": [
    {
     "data": {
      "text/plain": [
       "-1"
      ]
     },
     "execution_count": 3,
     "metadata": {},
     "output_type": "execute_result"
    }
   ],
   "source": [
    "1-2"
   ]
  },
  {
   "cell_type": "code",
   "execution_count": 4,
   "id": "d3556331-bb2e-4d3a-a447-40fbc492b068",
   "metadata": {},
   "outputs": [
    {
     "data": {
      "text/plain": [
       "2"
      ]
     },
     "execution_count": 4,
     "metadata": {},
     "output_type": "execute_result"
    }
   ],
   "source": [
    "1*2"
   ]
  },
  {
   "cell_type": "code",
   "execution_count": 5,
   "id": "a7d2451b-9447-433b-a868-8ff1f24b1c2d",
   "metadata": {},
   "outputs": [
    {
     "data": {
      "text/plain": [
       "0.5"
      ]
     },
     "execution_count": 5,
     "metadata": {},
     "output_type": "execute_result"
    }
   ],
   "source": [
    "1/2"
   ]
  },
  {
   "cell_type": "code",
   "execution_count": 6,
   "id": "52171514-883d-4102-8373-cee36361aab5",
   "metadata": {},
   "outputs": [
    {
     "data": {
      "text/plain": [
       "1"
      ]
     },
     "execution_count": 6,
     "metadata": {},
     "output_type": "execute_result"
    }
   ],
   "source": [
    "1%2"
   ]
  },
  {
   "cell_type": "code",
   "execution_count": 7,
   "id": "3e799a2e-8bbf-435d-90d5-5f4806b5ab20",
   "metadata": {},
   "outputs": [
    {
     "data": {
      "text/plain": [
       "1"
      ]
     },
     "execution_count": 7,
     "metadata": {},
     "output_type": "execute_result"
    }
   ],
   "source": [
    "5%4"
   ]
  },
  {
   "cell_type": "code",
   "execution_count": 8,
   "id": "31b960e0-fa5f-49e5-b014-707762b81275",
   "metadata": {},
   "outputs": [],
   "source": [
    "# Division floor"
   ]
  },
  {
   "cell_type": "code",
   "execution_count": 9,
   "id": "89da1350-6f57-4b62-8237-20bd75a97877",
   "metadata": {},
   "outputs": [
    {
     "data": {
      "text/plain": [
       "1"
      ]
     },
     "execution_count": 9,
     "metadata": {},
     "output_type": "execute_result"
    }
   ],
   "source": [
    "5//4"
   ]
  },
  {
   "cell_type": "code",
   "execution_count": 10,
   "id": "d35f714a-905d-44fe-aaa1-3eb4229e58ca",
   "metadata": {},
   "outputs": [],
   "source": [
    "# exponent or power operator"
   ]
  },
  {
   "cell_type": "code",
   "execution_count": 11,
   "id": "ccedf4ce-ebb1-4076-9349-06ee1fbeaf00",
   "metadata": {},
   "outputs": [
    {
     "data": {
      "text/plain": [
       "1"
      ]
     },
     "execution_count": 11,
     "metadata": {},
     "output_type": "execute_result"
    }
   ],
   "source": [
    "1**3\n"
   ]
  },
  {
   "cell_type": "code",
   "execution_count": 12,
   "id": "8698008c-ffae-44ef-a4b1-e06d77ab9c9a",
   "metadata": {},
   "outputs": [
    {
     "data": {
      "text/plain": [
       "8"
      ]
     },
     "execution_count": 12,
     "metadata": {},
     "output_type": "execute_result"
    }
   ],
   "source": [
    "2**3"
   ]
  },
  {
   "cell_type": "code",
   "execution_count": 13,
   "id": "de914c9f-e6a6-47e4-a913-55c4334b1869",
   "metadata": {},
   "outputs": [],
   "source": [
    "#Boolean data is in return which is used to compare values "
   ]
  },
  {
   "cell_type": "code",
   "execution_count": 14,
   "id": "11f21032-3a90-4638-b342-0b14026969e8",
   "metadata": {},
   "outputs": [
    {
     "data": {
      "text/plain": [
       "False"
      ]
     },
     "execution_count": 14,
     "metadata": {},
     "output_type": "execute_result"
    }
   ],
   "source": [
    "1>2"
   ]
  },
  {
   "cell_type": "code",
   "execution_count": 15,
   "id": "41162abd-6646-40a2-93a2-e64631944c60",
   "metadata": {},
   "outputs": [
    {
     "data": {
      "text/plain": [
       "True"
      ]
     },
     "execution_count": 15,
     "metadata": {},
     "output_type": "execute_result"
    }
   ],
   "source": [
    "1<2"
   ]
  },
  {
   "cell_type": "code",
   "execution_count": 16,
   "id": "97232605-41e6-46c2-b3dd-ded652feff50",
   "metadata": {},
   "outputs": [
    {
     "data": {
      "text/plain": [
       "False"
      ]
     },
     "execution_count": 16,
     "metadata": {},
     "output_type": "execute_result"
    }
   ],
   "source": [
    "1==2  # assignment opeartor"
   ]
  },
  {
   "cell_type": "code",
   "execution_count": 17,
   "id": "6841b3b1-cbd8-4127-b64a-72408e8bb905",
   "metadata": {},
   "outputs": [
    {
     "data": {
      "text/plain": [
       "True"
      ]
     },
     "execution_count": 17,
     "metadata": {},
     "output_type": "execute_result"
    }
   ],
   "source": [
    "1==1"
   ]
  },
  {
   "cell_type": "code",
   "execution_count": 18,
   "id": "f24ccc72-3536-400d-8a96-2d4915fd300d",
   "metadata": {},
   "outputs": [
    {
     "data": {
      "text/plain": [
       "True"
      ]
     },
     "execution_count": 18,
     "metadata": {},
     "output_type": "execute_result"
    }
   ],
   "source": [
    "1!= 2"
   ]
  },
  {
   "cell_type": "code",
   "execution_count": 19,
   "id": "0d364f2f-5f03-4662-bc56-c1cde1a589ac",
   "metadata": {},
   "outputs": [
    {
     "data": {
      "text/plain": [
       "False"
      ]
     },
     "execution_count": 19,
     "metadata": {},
     "output_type": "execute_result"
    }
   ],
   "source": [
    "1!=1"
   ]
  },
  {
   "cell_type": "code",
   "execution_count": 20,
   "id": "261b28ba-93e5-4497-abcf-33d4b5ab16fd",
   "metadata": {},
   "outputs": [
    {
     "data": {
      "text/plain": [
       "True"
      ]
     },
     "execution_count": 20,
     "metadata": {},
     "output_type": "execute_result"
    }
   ],
   "source": [
    "2>=2"
   ]
  },
  {
   "cell_type": "code",
   "execution_count": 21,
   "id": "955e4cbb-f98b-4267-89db-e782a36eab83",
   "metadata": {},
   "outputs": [
    {
     "data": {
      "text/plain": [
       "True"
      ]
     },
     "execution_count": 21,
     "metadata": {},
     "output_type": "execute_result"
    }
   ],
   "source": [
    "2>=1"
   ]
  },
  {
   "cell_type": "code",
   "execution_count": 23,
   "id": "28f27732-decd-489c-97c7-63b5d133daed",
   "metadata": {},
   "outputs": [
    {
     "data": {
      "text/plain": [
       "False"
      ]
     },
     "execution_count": 23,
     "metadata": {},
     "output_type": "execute_result"
    }
   ],
   "source": [
    "2>2"
   ]
  },
  {
   "cell_type": "code",
   "execution_count": 24,
   "id": "177c7362-d87b-4d87-b9dc-2a33801a7f7b",
   "metadata": {},
   "outputs": [
    {
     "data": {
      "text/plain": [
       "True"
      ]
     },
     "execution_count": 24,
     "metadata": {},
     "output_type": "execute_result"
    }
   ],
   "source": [
    "2>=2"
   ]
  },
  {
   "cell_type": "code",
   "execution_count": 25,
   "id": "691df1e6-b3f2-49c0-9cb2-14d844a46114",
   "metadata": {},
   "outputs": [],
   "source": [
    "#logical Operator   And / OR"
   ]
  },
  {
   "cell_type": "code",
   "execution_count": 28,
   "id": "d6a0454b-fbb0-43e8-b556-056dc085de7b",
   "metadata": {},
   "outputs": [
    {
     "data": {
      "text/plain": [
       "True"
      ]
     },
     "execution_count": 28,
     "metadata": {},
     "output_type": "execute_result"
    }
   ],
   "source": [
    "True and True"
   ]
  },
  {
   "cell_type": "code",
   "execution_count": 29,
   "id": "3012125e-7ea1-4ebb-849d-e5c910f3d059",
   "metadata": {},
   "outputs": [
    {
     "data": {
      "text/plain": [
       "False"
      ]
     },
     "execution_count": 29,
     "metadata": {},
     "output_type": "execute_result"
    }
   ],
   "source": [
    "False and True"
   ]
  },
  {
   "cell_type": "code",
   "execution_count": 30,
   "id": "f2439686-aafa-4f6a-9710-68b092d57de2",
   "metadata": {},
   "outputs": [
    {
     "data": {
      "text/plain": [
       "False"
      ]
     },
     "execution_count": 30,
     "metadata": {},
     "output_type": "execute_result"
    }
   ],
   "source": [
    "True and False"
   ]
  },
  {
   "cell_type": "code",
   "execution_count": 31,
   "id": "2a94624a-6cce-4ce3-b94f-92609004f9a5",
   "metadata": {},
   "outputs": [
    {
     "data": {
      "text/plain": [
       "False"
      ]
     },
     "execution_count": 31,
     "metadata": {},
     "output_type": "execute_result"
    }
   ],
   "source": [
    "False and False"
   ]
  },
  {
   "cell_type": "code",
   "execution_count": 33,
   "id": "77d45e6b-3e6d-416b-8a38-75121522cb54",
   "metadata": {},
   "outputs": [
    {
     "data": {
      "text/plain": [
       "0"
      ]
     },
     "execution_count": 33,
     "metadata": {},
     "output_type": "execute_result"
    }
   ],
   "source": [
    "1 and 0 \n"
   ]
  },
  {
   "cell_type": "code",
   "execution_count": 35,
   "id": "0b616f65-b07a-4425-aaa2-30d2a59796ea",
   "metadata": {},
   "outputs": [
    {
     "data": {
      "text/plain": [
       "0"
      ]
     },
     "execution_count": 35,
     "metadata": {},
     "output_type": "execute_result"
    }
   ],
   "source": [
    "0 and 1"
   ]
  },
  {
   "cell_type": "code",
   "execution_count": 36,
   "id": "a52565a3-c96a-46dd-9af9-20c29d2fecc2",
   "metadata": {},
   "outputs": [
    {
     "data": {
      "text/plain": [
       "1"
      ]
     },
     "execution_count": 36,
     "metadata": {},
     "output_type": "execute_result"
    }
   ],
   "source": [
    "1 and 1 "
   ]
  },
  {
   "cell_type": "code",
   "execution_count": 37,
   "id": "1053f2ab-1253-44a4-95d9-ed23142eb31e",
   "metadata": {},
   "outputs": [
    {
     "data": {
      "text/plain": [
       "False"
      ]
     },
     "execution_count": 37,
     "metadata": {},
     "output_type": "execute_result"
    }
   ],
   "source": [
    "not True"
   ]
  },
  {
   "cell_type": "code",
   "execution_count": 38,
   "id": "2badc2fa-7965-415d-a281-79cacc7666c8",
   "metadata": {},
   "outputs": [
    {
     "data": {
      "text/plain": [
       "False"
      ]
     },
     "execution_count": 38,
     "metadata": {},
     "output_type": "execute_result"
    }
   ],
   "source": [
    "not 1"
   ]
  },
  {
   "cell_type": "code",
   "execution_count": 39,
   "id": "cea86afa-c62b-46de-9f4c-b2e1c61362e1",
   "metadata": {},
   "outputs": [
    {
     "data": {
      "text/plain": [
       "1"
      ]
     },
     "execution_count": 39,
     "metadata": {},
     "output_type": "execute_result"
    }
   ],
   "source": [
    "1 or 0 "
   ]
  },
  {
   "cell_type": "code",
   "execution_count": 42,
   "id": "fc063dee-719f-4e99-aaf1-d6afd355a0d9",
   "metadata": {},
   "outputs": [
    {
     "data": {
      "text/plain": [
       "True"
      ]
     },
     "execution_count": 42,
     "metadata": {},
     "output_type": "execute_result"
    }
   ],
   "source": [
    "True or False\n"
   ]
  },
  {
   "cell_type": "code",
   "execution_count": 43,
   "id": "e1f5646e-107e-414d-abde-a9eb03c1649e",
   "metadata": {},
   "outputs": [
    {
     "data": {
      "text/plain": [
       "False"
      ]
     },
     "execution_count": 43,
     "metadata": {},
     "output_type": "execute_result"
    }
   ],
   "source": [
    "False or False"
   ]
  },
  {
   "cell_type": "code",
   "execution_count": 44,
   "id": "410fc7c7-5b74-4b8c-9be8-19d193732bca",
   "metadata": {},
   "outputs": [],
   "source": [
    "# Bitwise Operator & it internally converts to 0101010101 and then does the calculation "
   ]
  },
  {
   "cell_type": "code",
   "execution_count": 45,
   "id": "23316b6b-0be6-49ce-8151-a7b108ba4cd0",
   "metadata": {},
   "outputs": [
    {
     "data": {
      "text/plain": [
       "0"
      ]
     },
     "execution_count": 45,
     "metadata": {},
     "output_type": "execute_result"
    }
   ],
   "source": [
    "10 & 4"
   ]
  },
  {
   "cell_type": "code",
   "execution_count": 46,
   "id": "4ce8b24d-5d61-4e8b-8da9-e4bea3fc8377",
   "metadata": {},
   "outputs": [
    {
     "data": {
      "text/plain": [
       "'0b1010'"
      ]
     },
     "execution_count": 46,
     "metadata": {},
     "output_type": "execute_result"
    }
   ],
   "source": [
    "bin(10)"
   ]
  },
  {
   "cell_type": "code",
   "execution_count": 47,
   "id": "3c961d91-c158-482b-82d3-73310db6597f",
   "metadata": {},
   "outputs": [
    {
     "data": {
      "text/plain": [
       "'0b100'"
      ]
     },
     "execution_count": 47,
     "metadata": {},
     "output_type": "execute_result"
    }
   ],
   "source": [
    "bin(4)"
   ]
  },
  {
   "cell_type": "code",
   "execution_count": 48,
   "id": "60912028-4e2c-4aa3-aa86-74ebb44f9ead",
   "metadata": {},
   "outputs": [
    {
     "data": {
      "text/plain": [
       "20"
      ]
     },
     "execution_count": 48,
     "metadata": {},
     "output_type": "execute_result"
    }
   ],
   "source": [
    "23 & 20"
   ]
  },
  {
   "cell_type": "code",
   "execution_count": 49,
   "id": "4c6b1277-bb36-4b17-b420-dac8b5516bf2",
   "metadata": {},
   "outputs": [
    {
     "data": {
      "text/plain": [
       "'0b10111'"
      ]
     },
     "execution_count": 49,
     "metadata": {},
     "output_type": "execute_result"
    }
   ],
   "source": [
    "bin(23)"
   ]
  },
  {
   "cell_type": "code",
   "execution_count": 50,
   "id": "18227b5d-a6a8-4161-aa7c-049fad37cb00",
   "metadata": {},
   "outputs": [
    {
     "data": {
      "text/plain": [
       "'0b10100'"
      ]
     },
     "execution_count": 50,
     "metadata": {},
     "output_type": "execute_result"
    }
   ],
   "source": [
    "bin(20)"
   ]
  },
  {
   "cell_type": "code",
   "execution_count": 51,
   "id": "e523bb72-fd76-466f-b3a6-a5e1ac8f49a8",
   "metadata": {},
   "outputs": [
    {
     "data": {
      "text/plain": [
       "15"
      ]
     },
     "execution_count": 51,
     "metadata": {},
     "output_type": "execute_result"
    }
   ],
   "source": [
    "11|6"
   ]
  },
  {
   "cell_type": "code",
   "execution_count": 52,
   "id": "4a25f199-601c-4e84-9794-d30177cb3227",
   "metadata": {},
   "outputs": [
    {
     "data": {
      "text/plain": [
       "'0b1011'"
      ]
     },
     "execution_count": 52,
     "metadata": {},
     "output_type": "execute_result"
    }
   ],
   "source": [
    "bin(11)"
   ]
  },
  {
   "cell_type": "code",
   "execution_count": 53,
   "id": "309bc914-3d44-4ee7-bba1-86185c794dec",
   "metadata": {},
   "outputs": [
    {
     "data": {
      "text/plain": [
       "'0b110'"
      ]
     },
     "execution_count": 53,
     "metadata": {},
     "output_type": "execute_result"
    }
   ],
   "source": [
    "bin(6)"
   ]
  },
  {
   "cell_type": "code",
   "execution_count": 54,
   "id": "7abe15c9-02de-4788-b6c3-c543a86d6013",
   "metadata": {},
   "outputs": [
    {
     "data": {
      "text/plain": [
       "'0b1111'"
      ]
     },
     "execution_count": 54,
     "metadata": {},
     "output_type": "execute_result"
    }
   ],
   "source": [
    "bin(15)"
   ]
  },
  {
   "cell_type": "code",
   "execution_count": 55,
   "id": "d081b569-b082-4f61-882c-349bd557bb80",
   "metadata": {},
   "outputs": [
    {
     "data": {
      "text/plain": [
       "-13"
      ]
     },
     "execution_count": 55,
     "metadata": {},
     "output_type": "execute_result"
    }
   ],
   "source": [
    "~12"
   ]
  },
  {
   "cell_type": "code",
   "execution_count": 56,
   "id": "5b45f1aa-197c-4b57-9468-2346916dbdd7",
   "metadata": {},
   "outputs": [
    {
     "data": {
      "text/plain": [
       "-21"
      ]
     },
     "execution_count": 56,
     "metadata": {},
     "output_type": "execute_result"
    }
   ],
   "source": [
    "~20"
   ]
  },
  {
   "cell_type": "code",
   "execution_count": 57,
   "id": "8d8ae9e3-73c3-41f6-879b-43c927404b74",
   "metadata": {},
   "outputs": [
    {
     "data": {
      "text/plain": [
       "'0b10100'"
      ]
     },
     "execution_count": 57,
     "metadata": {},
     "output_type": "execute_result"
    }
   ],
   "source": [
    "bin(20)"
   ]
  },
  {
   "cell_type": "code",
   "execution_count": 58,
   "id": "8aea37cc-c2e6-4051-ad6f-17ed7ab60e5f",
   "metadata": {},
   "outputs": [],
   "source": [
    "# put minus and add one at end  -(10100+1) = -10101  it does a negate "
   ]
  },
  {
   "cell_type": "code",
   "execution_count": 60,
   "id": "23265995-bcd0-483e-815a-4ae4f53df8f4",
   "metadata": {},
   "outputs": [
    {
     "data": {
      "text/plain": [
       "'-0b10101'"
      ]
     },
     "execution_count": 60,
     "metadata": {},
     "output_type": "execute_result"
    }
   ],
   "source": [
    "bin(-21)\n"
   ]
  },
  {
   "cell_type": "code",
   "execution_count": 61,
   "id": "8643e625-24a0-4677-9443-a9b51c32f569",
   "metadata": {},
   "outputs": [],
   "source": [
    "## right shift and left shift operator"
   ]
  },
  {
   "cell_type": "code",
   "execution_count": 62,
   "id": "ea567068-be4a-4bfe-8c7c-81796aa8d9cc",
   "metadata": {},
   "outputs": [],
   "source": [
    "a = 8"
   ]
  },
  {
   "cell_type": "code",
   "execution_count": 63,
   "id": "80f13862-bc76-4b0f-8bec-fc29b8affae3",
   "metadata": {},
   "outputs": [
    {
     "data": {
      "text/plain": [
       "2"
      ]
     },
     "execution_count": 63,
     "metadata": {},
     "output_type": "execute_result"
    }
   ],
   "source": [
    "a>>2"
   ]
  },
  {
   "cell_type": "code",
   "execution_count": 64,
   "id": "5f1bf4d8-c9ff-4657-849d-d75433b5530e",
   "metadata": {},
   "outputs": [
    {
     "data": {
      "text/plain": [
       "'0b1000'"
      ]
     },
     "execution_count": 64,
     "metadata": {},
     "output_type": "execute_result"
    }
   ],
   "source": [
    "bin(a)"
   ]
  },
  {
   "cell_type": "code",
   "execution_count": null,
   "id": "de94bdaa-cf5d-476a-be48-de6789884b43",
   "metadata": {},
   "outputs": [],
   "source": [
    "# 1000 shift two zero to right 10 00"
   ]
  },
  {
   "cell_type": "code",
   "execution_count": 67,
   "id": "477744b7-135d-4a85-9fc2-7d70b3987799",
   "metadata": {},
   "outputs": [
    {
     "data": {
      "text/plain": [
       "'0b10'"
      ]
     },
     "execution_count": 67,
     "metadata": {},
     "output_type": "execute_result"
    }
   ],
   "source": [
    "bin(2)"
   ]
  },
  {
   "cell_type": "code",
   "execution_count": 68,
   "id": "af64fb20-759e-4de1-85e3-eff095eaf5a9",
   "metadata": {},
   "outputs": [
    {
     "data": {
      "text/plain": [
       "1"
      ]
     },
     "execution_count": 68,
     "metadata": {},
     "output_type": "execute_result"
    }
   ],
   "source": [
    "a>>3"
   ]
  },
  {
   "cell_type": "code",
   "execution_count": 69,
   "id": "1e741241-5d48-4c90-8e61-3fef69492341",
   "metadata": {},
   "outputs": [
    {
     "data": {
      "text/plain": [
       "'0b1000'"
      ]
     },
     "execution_count": 69,
     "metadata": {},
     "output_type": "execute_result"
    }
   ],
   "source": [
    "bin(a)"
   ]
  },
  {
   "cell_type": "code",
   "execution_count": 70,
   "id": "b256c413-ffdf-4ce2-82b1-b52001aaf266",
   "metadata": {},
   "outputs": [],
   "source": [
    "# 1000 shift three zero to right 1 so answer is 1"
   ]
  },
  {
   "cell_type": "code",
   "execution_count": 71,
   "id": "b3f62fe3-656a-491d-a582-f105c19339fe",
   "metadata": {},
   "outputs": [
    {
     "data": {
      "text/plain": [
       "0"
      ]
     },
     "execution_count": 71,
     "metadata": {},
     "output_type": "execute_result"
    }
   ],
   "source": [
    "a>>4"
   ]
  },
  {
   "cell_type": "code",
   "execution_count": 72,
   "id": "f8a62e4c-de28-4c38-a603-90c4c7b31910",
   "metadata": {},
   "outputs": [
    {
     "data": {
      "text/plain": [
       "'0b1000'"
      ]
     },
     "execution_count": 72,
     "metadata": {},
     "output_type": "execute_result"
    }
   ],
   "source": [
    "bin(a)"
   ]
  },
  {
   "cell_type": "code",
   "execution_count": 73,
   "id": "2b70d143-7a38-47f8-8993-cf24234538e6",
   "metadata": {},
   "outputs": [],
   "source": [
    "#1000 shift 4 to right 0 1000 so answer is 0"
   ]
  },
  {
   "cell_type": "code",
   "execution_count": 74,
   "id": "e2056aa9-a5f9-49b7-81c9-dbb293cd0b92",
   "metadata": {},
   "outputs": [],
   "source": [
    "# left shift operator"
   ]
  },
  {
   "cell_type": "code",
   "execution_count": 79,
   "id": "effd0372-d328-4e2e-a7a2-ad108e43d8fc",
   "metadata": {},
   "outputs": [
    {
     "data": {
      "text/plain": [
       "80"
      ]
     },
     "execution_count": 79,
     "metadata": {},
     "output_type": "execute_result"
    }
   ],
   "source": [
    "20 << 2"
   ]
  },
  {
   "cell_type": "code",
   "execution_count": 76,
   "id": "06ac3b69-07f9-418a-86a2-7e435bf8709a",
   "metadata": {},
   "outputs": [
    {
     "data": {
      "text/plain": [
       "'0b10100'"
      ]
     },
     "execution_count": 76,
     "metadata": {},
     "output_type": "execute_result"
    }
   ],
   "source": [
    "bin(20)\n"
   ]
  },
  {
   "cell_type": "code",
   "execution_count": 77,
   "id": "10e9b25a-0870-48fd-bccb-563a28e470a2",
   "metadata": {},
   "outputs": [],
   "source": [
    "# 10100 in left shift operator  add two zeros at end 1010000"
   ]
  },
  {
   "cell_type": "code",
   "execution_count": 80,
   "id": "d52c007e-74e5-43a4-805c-837d9f529442",
   "metadata": {},
   "outputs": [
    {
     "data": {
      "text/plain": [
       "'0b1010000'"
      ]
     },
     "execution_count": 80,
     "metadata": {},
     "output_type": "execute_result"
    }
   ],
   "source": [
    "bin(80)"
   ]
  },
  {
   "cell_type": "code",
   "execution_count": 81,
   "id": "14a4d74a-5334-4217-a50e-e439806cfb12",
   "metadata": {},
   "outputs": [
    {
     "data": {
      "text/plain": [
       "160"
      ]
     },
     "execution_count": 81,
     "metadata": {},
     "output_type": "execute_result"
    }
   ],
   "source": [
    "20 << 3"
   ]
  },
  {
   "cell_type": "code",
   "execution_count": 82,
   "id": "091afa68-bdb3-47fe-a91d-d30c167f6e59",
   "metadata": {},
   "outputs": [],
   "source": [
    "# 10100 in left shift operator  add three zeros at end 10100000"
   ]
  },
  {
   "cell_type": "code",
   "execution_count": 83,
   "id": "7dfbb0d6-0ccd-4010-800f-5daaddfd586d",
   "metadata": {},
   "outputs": [
    {
     "data": {
      "text/plain": [
       "'0b10100000'"
      ]
     },
     "execution_count": 83,
     "metadata": {},
     "output_type": "execute_result"
    }
   ],
   "source": [
    "bin(160)"
   ]
  },
  {
   "cell_type": "code",
   "execution_count": 84,
   "id": "ff6ae560-1eda-4e75-9726-349895298769",
   "metadata": {},
   "outputs": [
    {
     "data": {
      "text/plain": [
       "320"
      ]
     },
     "execution_count": 84,
     "metadata": {},
     "output_type": "execute_result"
    }
   ],
   "source": [
    "20<<4\n"
   ]
  },
  {
   "cell_type": "code",
   "execution_count": 85,
   "id": "7a0cb9ba-2cb5-4927-a748-5afb4ff9b42e",
   "metadata": {},
   "outputs": [],
   "source": [
    "# 10100 in left shift operator  add four zeros at end 101000000"
   ]
  },
  {
   "cell_type": "code",
   "execution_count": 86,
   "id": "e7654b45-4656-4be5-bb89-419036527f50",
   "metadata": {},
   "outputs": [
    {
     "data": {
      "text/plain": [
       "'0b101000000'"
      ]
     },
     "execution_count": 86,
     "metadata": {},
     "output_type": "execute_result"
    }
   ],
   "source": [
    "bin(320)"
   ]
  },
  {
   "cell_type": "code",
   "execution_count": 87,
   "id": "cd5972d0-15ec-4abb-b435-a279d490fda2",
   "metadata": {},
   "outputs": [],
   "source": [
    "# assignment operator "
   ]
  },
  {
   "cell_type": "code",
   "execution_count": 88,
   "id": "21828a56-c28e-4457-ac0f-070649ce4a8d",
   "metadata": {},
   "outputs": [],
   "source": [
    "a= 10 "
   ]
  },
  {
   "cell_type": "code",
   "execution_count": 89,
   "id": "be8de94d-8625-4960-a44f-4974ce218dba",
   "metadata": {},
   "outputs": [
    {
     "data": {
      "text/plain": [
       "10"
      ]
     },
     "execution_count": 89,
     "metadata": {},
     "output_type": "execute_result"
    }
   ],
   "source": [
    "a"
   ]
  },
  {
   "cell_type": "code",
   "execution_count": 90,
   "id": "35d4c98e-3061-4aa7-acbd-e89f7ed10878",
   "metadata": {},
   "outputs": [],
   "source": [
    "a += 1"
   ]
  },
  {
   "cell_type": "code",
   "execution_count": 91,
   "id": "7a567213-d3ec-4daf-92f3-a4f8320a785f",
   "metadata": {},
   "outputs": [
    {
     "data": {
      "text/plain": [
       "11"
      ]
     },
     "execution_count": 91,
     "metadata": {},
     "output_type": "execute_result"
    }
   ],
   "source": [
    "a"
   ]
  },
  {
   "cell_type": "code",
   "execution_count": 92,
   "id": "b84aa261-e57b-4843-9313-1df0a9f1f645",
   "metadata": {},
   "outputs": [],
   "source": [
    "a= a+1 # can be represented by this way even "
   ]
  },
  {
   "cell_type": "code",
   "execution_count": 93,
   "id": "42ec2087-72af-473d-84ad-94e3078d3997",
   "metadata": {},
   "outputs": [],
   "source": [
    "b = 10 "
   ]
  },
  {
   "cell_type": "code",
   "execution_count": 94,
   "id": "641b318d-24e9-4937-ac01-a4257993d1a3",
   "metadata": {},
   "outputs": [
    {
     "data": {
      "text/plain": [
       "10"
      ]
     },
     "execution_count": 94,
     "metadata": {},
     "output_type": "execute_result"
    }
   ],
   "source": [
    "b"
   ]
  },
  {
   "cell_type": "code",
   "execution_count": 95,
   "id": "12804082-0945-46f9-befc-e48695987e67",
   "metadata": {},
   "outputs": [],
   "source": [
    "b += 1"
   ]
  },
  {
   "cell_type": "code",
   "execution_count": 96,
   "id": "2080ddbe-6c80-465d-a035-cd6fe2260758",
   "metadata": {},
   "outputs": [
    {
     "data": {
      "text/plain": [
       "11"
      ]
     },
     "execution_count": 96,
     "metadata": {},
     "output_type": "execute_result"
    }
   ],
   "source": [
    "b"
   ]
  },
  {
   "cell_type": "code",
   "execution_count": 97,
   "id": "5ba6f90c-25c7-43dd-b7b8-0ab4a5887005",
   "metadata": {},
   "outputs": [],
   "source": [
    "b+=1"
   ]
  },
  {
   "cell_type": "code",
   "execution_count": 98,
   "id": "3d8cb072-2e03-4766-806d-63096acee83b",
   "metadata": {},
   "outputs": [
    {
     "data": {
      "text/plain": [
       "12"
      ]
     },
     "execution_count": 98,
     "metadata": {},
     "output_type": "execute_result"
    }
   ],
   "source": [
    "b"
   ]
  },
  {
   "cell_type": "code",
   "execution_count": 99,
   "id": "c74ec551-1e83-4e1a-942a-333c50008b9a",
   "metadata": {},
   "outputs": [],
   "source": [
    "c= 20 "
   ]
  },
  {
   "cell_type": "code",
   "execution_count": 100,
   "id": "742d44c5-0f16-48a2-84d5-1e48d9dcc79e",
   "metadata": {},
   "outputs": [],
   "source": [
    "c = c-1"
   ]
  },
  {
   "cell_type": "code",
   "execution_count": 101,
   "id": "0b0ab004-96a3-44ee-81fe-b4de69a627c8",
   "metadata": {},
   "outputs": [
    {
     "data": {
      "text/plain": [
       "19"
      ]
     },
     "execution_count": 101,
     "metadata": {},
     "output_type": "execute_result"
    }
   ],
   "source": [
    "c"
   ]
  },
  {
   "cell_type": "code",
   "execution_count": 102,
   "id": "036a5ff5-8530-4601-9d40-74e8fa19dd72",
   "metadata": {},
   "outputs": [],
   "source": [
    "c -= 1"
   ]
  },
  {
   "cell_type": "code",
   "execution_count": 103,
   "id": "755b0e76-b614-4a19-a411-11fbd5102592",
   "metadata": {},
   "outputs": [
    {
     "data": {
      "text/plain": [
       "18"
      ]
     },
     "execution_count": 103,
     "metadata": {},
     "output_type": "execute_result"
    }
   ],
   "source": [
    "c"
   ]
  },
  {
   "cell_type": "code",
   "execution_count": null,
   "id": "21a7c615-d265-455c-b8c4-932e2f3d41e3",
   "metadata": {},
   "outputs": [],
   "source": []
  }
 ],
 "metadata": {
  "kernelspec": {
   "display_name": "Python 3 (ipykernel)",
   "language": "python",
   "name": "python3"
  },
  "language_info": {
   "codemirror_mode": {
    "name": "ipython",
    "version": 3
   },
   "file_extension": ".py",
   "mimetype": "text/x-python",
   "name": "python",
   "nbconvert_exporter": "python",
   "pygments_lexer": "ipython3",
   "version": "3.10.8"
  }
 },
 "nbformat": 4,
 "nbformat_minor": 5
}
