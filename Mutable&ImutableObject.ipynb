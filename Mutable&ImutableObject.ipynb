{
 "cells": [
  {
   "cell_type": "code",
   "execution_count": 18,
   "id": "688f12a8-196c-465b-ad07-f26c32abfda5",
   "metadata": {},
   "outputs": [],
   "source": [
    "s = \"Subrat\"\n"
   ]
  },
  {
   "cell_type": "code",
   "execution_count": 19,
   "id": "be3818af-cfc7-43b9-8c83-1de93797631a",
   "metadata": {},
   "outputs": [
    {
     "data": {
      "text/plain": [
       "'Subrat'"
      ]
     },
     "execution_count": 19,
     "metadata": {},
     "output_type": "execute_result"
    }
   ],
   "source": [
    "s"
   ]
  },
  {
   "cell_type": "code",
   "execution_count": 13,
   "id": "60b2d51b-c712-4f64-8971-9d1ab736dbd6",
   "metadata": {},
   "outputs": [],
   "source": [
    "S1 = 'sub'"
   ]
  },
  {
   "cell_type": "code",
   "execution_count": 14,
   "id": "65b3ef6d-c9d5-4695-8bae-b6b717d37738",
   "metadata": {},
   "outputs": [
    {
     "data": {
      "text/plain": [
       "'sub'"
      ]
     },
     "execution_count": 14,
     "metadata": {},
     "output_type": "execute_result"
    }
   ],
   "source": [
    "S1"
   ]
  },
  {
   "cell_type": "code",
   "execution_count": 11,
   "id": "7ebe1dac-859d-412c-a64a-edd70444f86b",
   "metadata": {},
   "outputs": [
    {
     "data": {
      "text/plain": [
       "str"
      ]
     },
     "execution_count": 11,
     "metadata": {},
     "output_type": "execute_result"
    }
   ],
   "source": [
    "type(s)"
   ]
  },
  {
   "cell_type": "code",
   "execution_count": 17,
   "id": "d43f3d58-9d1f-4c50-9d35-e9e937dcc388",
   "metadata": {},
   "outputs": [
    {
     "data": {
      "text/plain": [
       "str"
      ]
     },
     "execution_count": 17,
     "metadata": {},
     "output_type": "execute_result"
    }
   ],
   "source": [
    "type(S1)"
   ]
  },
  {
   "cell_type": "code",
   "execution_count": 18,
   "id": "e4935fb1-2ad6-41d1-8860-e63529c2208a",
   "metadata": {},
   "outputs": [],
   "source": [
    "s2 = \"jen\""
   ]
  },
  {
   "cell_type": "code",
   "execution_count": 19,
   "id": "a3292a0e-7653-4a10-963a-f1525cab5969",
   "metadata": {},
   "outputs": [
    {
     "data": {
      "text/plain": [
       "'jen'"
      ]
     },
     "execution_count": 19,
     "metadata": {},
     "output_type": "execute_result"
    }
   ],
   "source": [
    "s2"
   ]
  },
  {
   "cell_type": "code",
   "execution_count": 20,
   "id": "6d862b18-e350-4d13-a512-289e1c5d29da",
   "metadata": {},
   "outputs": [],
   "source": [
    "#list can contain any number and type of data it is collection of data you can keep a list inside another list "
   ]
  },
  {
   "cell_type": "code",
   "execution_count": 3,
   "id": "d9df857c-e767-45e1-acd8-4aaf5a143ef5",
   "metadata": {},
   "outputs": [],
   "source": [
    "l = [2,3,4,5,6,\"jen\",'suna',3+7j,True,34.56]"
   ]
  },
  {
   "cell_type": "code",
   "execution_count": 4,
   "id": "a86c270c-0891-40ad-8678-ff179b791148",
   "metadata": {},
   "outputs": [
    {
     "data": {
      "text/plain": [
       "[2, 3, 4, 5, 6, 'jen', 'suna', (3+7j), True, 34.56]"
      ]
     },
     "execution_count": 4,
     "metadata": {},
     "output_type": "execute_result"
    }
   ],
   "source": [
    "l\n"
   ]
  },
  {
   "cell_type": "code",
   "execution_count": 5,
   "id": "1dd1f335-0b96-4ac7-8a18-21c2b04603f0",
   "metadata": {},
   "outputs": [
    {
     "data": {
      "text/plain": [
       "list"
      ]
     },
     "execution_count": 5,
     "metadata": {},
     "output_type": "execute_result"
    }
   ],
   "source": [
    "type(l)\n"
   ]
  },
  {
   "cell_type": "code",
   "execution_count": 6,
   "id": "3e46cc0a-67c8-40a0-8842-0d064ccf5907",
   "metadata": {},
   "outputs": [
    {
     "data": {
      "text/plain": [
       "'suna'"
      ]
     },
     "execution_count": 6,
     "metadata": {},
     "output_type": "execute_result"
    }
   ],
   "source": [
    "l[6]"
   ]
  },
  {
   "cell_type": "code",
   "execution_count": 7,
   "id": "c9e912a5-677b-40e5-906b-df35cb221417",
   "metadata": {},
   "outputs": [
    {
     "data": {
      "text/plain": [
       "'suna'"
      ]
     },
     "execution_count": 7,
     "metadata": {},
     "output_type": "execute_result"
    }
   ],
   "source": [
    "l[-4]\n"
   ]
  },
  {
   "cell_type": "code",
   "execution_count": 8,
   "id": "f6b477ef-4b8f-430f-b6ed-bbe3e08a90fe",
   "metadata": {},
   "outputs": [],
   "source": [
    "# forward indexing 0,1,2,3,4,,5,6,7,8 backward indexing is ....-4,-3,-2,-1"
   ]
  },
  {
   "cell_type": "code",
   "execution_count": 9,
   "id": "79afcc0f-7ef5-4776-bb73-8f770715f92b",
   "metadata": {},
   "outputs": [
    {
     "data": {
      "text/plain": [
       "3"
      ]
     },
     "execution_count": 9,
     "metadata": {},
     "output_type": "execute_result"
    }
   ],
   "source": [
    "l[1]"
   ]
  },
  {
   "cell_type": "code",
   "execution_count": 10,
   "id": "a0431101-e22a-4640-86dd-97126c3607f5",
   "metadata": {},
   "outputs": [],
   "source": [
    "l[1] = 300"
   ]
  },
  {
   "cell_type": "code",
   "execution_count": 11,
   "id": "6e8a8860-0b2c-4ad1-94bf-0fac9011cddd",
   "metadata": {},
   "outputs": [
    {
     "data": {
      "text/plain": [
       "[2, 300, 4, 5, 6, 'jen', 'suna', (3+7j), True, 34.56]"
      ]
     },
     "execution_count": 11,
     "metadata": {},
     "output_type": "execute_result"
    }
   ],
   "source": [
    "l\n"
   ]
  },
  {
   "cell_type": "code",
   "execution_count": 12,
   "id": "e7c593b5-093c-4202-ab4d-2f1199bddcd7",
   "metadata": {},
   "outputs": [
    {
     "data": {
      "text/plain": [
       "6"
      ]
     },
     "execution_count": 12,
     "metadata": {},
     "output_type": "execute_result"
    }
   ],
   "source": [
    "l[4]"
   ]
  },
  {
   "cell_type": "code",
   "execution_count": 13,
   "id": "0501011d-de86-4d99-a908-c526b8322815",
   "metadata": {},
   "outputs": [],
   "source": [
    "l[4] = \"pwskills\""
   ]
  },
  {
   "cell_type": "code",
   "execution_count": 14,
   "id": "d004ab5c-a6e7-499a-a332-e3bf13442bc3",
   "metadata": {},
   "outputs": [
    {
     "data": {
      "text/plain": [
       "[2, 300, 4, 5, 'pwskills', 'jen', 'suna', (3+7j), True, 34.56]"
      ]
     },
     "execution_count": 14,
     "metadata": {},
     "output_type": "execute_result"
    }
   ],
   "source": [
    "l"
   ]
  },
  {
   "cell_type": "code",
   "execution_count": 21,
   "id": "d353cf93-4d5e-424e-99d1-cf40a4c6e9bd",
   "metadata": {},
   "outputs": [
    {
     "data": {
      "text/plain": [
       "'Subrat'"
      ]
     },
     "execution_count": 21,
     "metadata": {},
     "output_type": "execute_result"
    }
   ],
   "source": [
    "s"
   ]
  },
  {
   "cell_type": "code",
   "execution_count": 22,
   "id": "fc640327-12f7-4e4c-96d5-91127610fbf8",
   "metadata": {},
   "outputs": [
    {
     "data": {
      "text/plain": [
       "'u'"
      ]
     },
     "execution_count": 22,
     "metadata": {},
     "output_type": "execute_result"
    }
   ],
   "source": [
    "s[1]"
   ]
  },
  {
   "cell_type": "code",
   "execution_count": 23,
   "id": "819a3af4-bd3e-4f08-8a8b-bf3a5ca29015",
   "metadata": {},
   "outputs": [
    {
     "ename": "TypeError",
     "evalue": "'str' object does not support item assignment",
     "output_type": "error",
     "traceback": [
      "\u001b[0;31m---------------------------------------------------------------------------\u001b[0m",
      "\u001b[0;31mTypeError\u001b[0m                                 Traceback (most recent call last)",
      "Cell \u001b[0;32mIn[23], line 1\u001b[0m\n\u001b[0;32m----> 1\u001b[0m \u001b[43ms\u001b[49m\u001b[43m[\u001b[49m\u001b[38;5;241;43m1\u001b[39;49m\u001b[43m]\u001b[49m \u001b[38;5;241m=\u001b[39m \u001b[38;5;124m\"\u001b[39m\u001b[38;5;124ms\u001b[39m\u001b[38;5;124m\"\u001b[39m\n",
      "\u001b[0;31mTypeError\u001b[0m: 'str' object does not support item assignment"
     ]
    }
   ],
   "source": [
    "s[1] = \"s\""
   ]
  },
  {
   "cell_type": "code",
   "execution_count": 25,
   "id": "98255255-0883-46e2-bb63-ec60ef1b7444",
   "metadata": {},
   "outputs": [],
   "source": [
    "# s is a string object and it is immutable object where as list l is a mutable object which is mutable  one gives permission to mutate is list and string doesn't allow to mutate.this concept comes when it is considered for a particular index .\n",
    "\n"
   ]
  },
  {
   "cell_type": "code",
   "execution_count": null,
   "id": "823d4f73-b8c7-425c-abdf-bbf3a179fbe8",
   "metadata": {},
   "outputs": [],
   "source": []
  },
  {
   "cell_type": "code",
   "execution_count": null,
   "id": "d23aefd8-1fc6-44e7-8328-3298270bdaca",
   "metadata": {},
   "outputs": [],
   "source": []
  }
 ],
 "metadata": {
  "kernelspec": {
   "display_name": "Python 3 (ipykernel)",
   "language": "python",
   "name": "python3"
  },
  "language_info": {
   "codemirror_mode": {
    "name": "ipython",
    "version": 3
   },
   "file_extension": ".py",
   "mimetype": "text/x-python",
   "name": "python",
   "nbconvert_exporter": "python",
   "pygments_lexer": "ipython3",
   "version": "3.10.8"
  }
 },
 "nbformat": 4,
 "nbformat_minor": 5
}
