{
 "cells": [
  {
   "cell_type": "code",
   "execution_count": 1,
   "id": "7ca53278-42ec-46da-ac03-d3aab43f5b48",
   "metadata": {},
   "outputs": [],
   "source": [
    "a = 1"
   ]
  },
  {
   "cell_type": "code",
   "execution_count": 2,
   "id": "e537dbe7-f181-4f9a-8ce4-4610a11ae350",
   "metadata": {},
   "outputs": [
    {
     "data": {
      "text/plain": [
       "1"
      ]
     },
     "execution_count": 2,
     "metadata": {},
     "output_type": "execute_result"
    }
   ],
   "source": [
    "a"
   ]
  },
  {
   "cell_type": "code",
   "execution_count": 3,
   "id": "8aaf7fff-ef60-4bfc-97d7-a8b3825c04e1",
   "metadata": {},
   "outputs": [
    {
     "ename": "NameError",
     "evalue": "name 'Type' is not defined",
     "output_type": "error",
     "traceback": [
      "\u001b[0;31m---------------------------------------------------------------------------\u001b[0m",
      "\u001b[0;31mNameError\u001b[0m                                 Traceback (most recent call last)",
      "Cell \u001b[0;32mIn[3], line 1\u001b[0m\n\u001b[0;32m----> 1\u001b[0m \u001b[43mType\u001b[49m(a)\n",
      "\u001b[0;31mNameError\u001b[0m: name 'Type' is not defined"
     ]
    }
   ],
   "source": [
    "Type(a)"
   ]
  },
  {
   "cell_type": "code",
   "execution_count": 4,
   "id": "39ed2751-9647-4c65-8b9e-aebd2b97c7db",
   "metadata": {},
   "outputs": [
    {
     "data": {
      "text/plain": [
       "int"
      ]
     },
     "execution_count": 4,
     "metadata": {},
     "output_type": "execute_result"
    }
   ],
   "source": [
    "type(a)"
   ]
  },
  {
   "cell_type": "code",
   "execution_count": 5,
   "id": "586b9f62-ea07-437c-9b21-dcc36027c722",
   "metadata": {},
   "outputs": [],
   "source": [
    "b = 'Subrat'"
   ]
  },
  {
   "cell_type": "code",
   "execution_count": 6,
   "id": "d7d83147-4f9c-466e-b785-7e1db25c5f2e",
   "metadata": {},
   "outputs": [
    {
     "data": {
      "text/plain": [
       "'Subrat'"
      ]
     },
     "execution_count": 6,
     "metadata": {},
     "output_type": "execute_result"
    }
   ],
   "source": [
    "b"
   ]
  },
  {
   "cell_type": "code",
   "execution_count": 7,
   "id": "16690bae-9d7b-4698-9568-290f42c247f4",
   "metadata": {},
   "outputs": [
    {
     "data": {
      "text/plain": [
       "str"
      ]
     },
     "execution_count": 7,
     "metadata": {},
     "output_type": "execute_result"
    }
   ],
   "source": [
    "type(b)"
   ]
  },
  {
   "cell_type": "code",
   "execution_count": 8,
   "id": "c10867fc-60ae-4b2a-a1d6-729bc349318e",
   "metadata": {},
   "outputs": [],
   "source": [
    "c=43.5"
   ]
  },
  {
   "cell_type": "code",
   "execution_count": 9,
   "id": "5b616eaf-1f20-4197-99b7-e5c8132c5826",
   "metadata": {},
   "outputs": [
    {
     "data": {
      "text/plain": [
       "43.5"
      ]
     },
     "execution_count": 9,
     "metadata": {},
     "output_type": "execute_result"
    }
   ],
   "source": [
    "c"
   ]
  },
  {
   "cell_type": "code",
   "execution_count": 10,
   "id": "56e1e4ab-9c78-4406-be05-d5172cb33e94",
   "metadata": {},
   "outputs": [
    {
     "data": {
      "text/plain": [
       "float"
      ]
     },
     "execution_count": 10,
     "metadata": {},
     "output_type": "execute_result"
    }
   ],
   "source": [
    "type(c)"
   ]
  },
  {
   "cell_type": "code",
   "execution_count": 11,
   "id": "49dd0684-acd0-4ac0-ba52-0e8821ccd253",
   "metadata": {},
   "outputs": [],
   "source": [
    "d = 328469854632985.928634918362\n"
   ]
  },
  {
   "cell_type": "code",
   "execution_count": 12,
   "id": "466f2fcf-62a6-413b-b119-547152286f05",
   "metadata": {},
   "outputs": [
    {
     "data": {
      "text/plain": [
       "328469854632985.94"
      ]
     },
     "execution_count": 12,
     "metadata": {},
     "output_type": "execute_result"
    }
   ],
   "source": [
    "d"
   ]
  },
  {
   "cell_type": "code",
   "execution_count": 13,
   "id": "3628d3e5-619a-4bb9-8f95-6e1ecbf5ba55",
   "metadata": {},
   "outputs": [
    {
     "data": {
      "text/plain": [
       "float"
      ]
     },
     "execution_count": 13,
     "metadata": {},
     "output_type": "execute_result"
    }
   ],
   "source": [
    "type(d)"
   ]
  },
  {
   "cell_type": "code",
   "execution_count": null,
   "id": "ea57f9ea-3ef0-4151-8895-84f0a7275d43",
   "metadata": {},
   "outputs": [],
   "source": []
  },
  {
   "cell_type": "code",
   "execution_count": 14,
   "id": "2ac88ec9-8053-4d02-88a8-b6969c8a1c42",
   "metadata": {},
   "outputs": [],
   "source": [
    "# = is assignment operator "
   ]
  },
  {
   "cell_type": "code",
   "execution_count": 15,
   "id": "86b660cd-5aeb-4e53-9dab-6660b266e546",
   "metadata": {},
   "outputs": [],
   "source": [
    "e = 1 "
   ]
  },
  {
   "cell_type": "code",
   "execution_count": 16,
   "id": "56fb58d1-c5b9-44af-81a7-687789a15ab8",
   "metadata": {},
   "outputs": [
    {
     "data": {
      "text/plain": [
       "1"
      ]
     },
     "execution_count": 16,
     "metadata": {},
     "output_type": "execute_result"
    }
   ],
   "source": [
    "e\n"
   ]
  },
  {
   "cell_type": "code",
   "execution_count": 17,
   "id": "09ca6817-ee1f-4886-9d94-4f3aebc0d745",
   "metadata": {},
   "outputs": [],
   "source": [
    "sub = 4532567"
   ]
  },
  {
   "cell_type": "code",
   "execution_count": 18,
   "id": "c79cd1e4-6b68-4edf-bca0-7f330417cb04",
   "metadata": {},
   "outputs": [
    {
     "data": {
      "text/plain": [
       "4532567"
      ]
     },
     "execution_count": 18,
     "metadata": {},
     "output_type": "execute_result"
    }
   ],
   "source": [
    "sub "
   ]
  },
  {
   "cell_type": "code",
   "execution_count": 19,
   "id": "87586786-02b8-447d-b6a3-786f8e540d5e",
   "metadata": {},
   "outputs": [
    {
     "data": {
      "text/plain": [
       "int"
      ]
     },
     "execution_count": 19,
     "metadata": {},
     "output_type": "execute_result"
    }
   ],
   "source": [
    "type(sub)"
   ]
  },
  {
   "cell_type": "code",
   "execution_count": 20,
   "id": "d925a254-a9ef-4370-8b91-e69c0dd28cc3",
   "metadata": {},
   "outputs": [
    {
     "ename": "NameError",
     "evalue": "name 'true' is not defined",
     "output_type": "error",
     "traceback": [
      "\u001b[0;31m---------------------------------------------------------------------------\u001b[0m",
      "\u001b[0;31mNameError\u001b[0m                                 Traceback (most recent call last)",
      "Cell \u001b[0;32mIn[20], line 1\u001b[0m\n\u001b[0;32m----> 1\u001b[0m f \u001b[38;5;241m=\u001b[39m \u001b[43mtrue\u001b[49m\n",
      "\u001b[0;31mNameError\u001b[0m: name 'true' is not defined"
     ]
    }
   ],
   "source": [
    "f = true"
   ]
  },
  {
   "cell_type": "code",
   "execution_count": 21,
   "id": "b6ab4fc4-affb-4052-9fa2-a4d395464956",
   "metadata": {},
   "outputs": [],
   "source": [
    "f=True\n"
   ]
  },
  {
   "cell_type": "code",
   "execution_count": 22,
   "id": "d73ba5b0-b9ed-485e-b29e-e4f51f6c77c0",
   "metadata": {},
   "outputs": [
    {
     "data": {
      "text/plain": [
       "True"
      ]
     },
     "execution_count": 22,
     "metadata": {},
     "output_type": "execute_result"
    }
   ],
   "source": [
    "f\n"
   ]
  },
  {
   "cell_type": "code",
   "execution_count": 23,
   "id": "9e1a10f9-33c5-474d-9f3f-f38c7d63c4e4",
   "metadata": {},
   "outputs": [
    {
     "ename": "NameError",
     "evalue": "name 'tyep' is not defined",
     "output_type": "error",
     "traceback": [
      "\u001b[0;31m---------------------------------------------------------------------------\u001b[0m",
      "\u001b[0;31mNameError\u001b[0m                                 Traceback (most recent call last)",
      "Cell \u001b[0;32mIn[23], line 1\u001b[0m\n\u001b[0;32m----> 1\u001b[0m \u001b[43mtyep\u001b[49m(f)\n",
      "\u001b[0;31mNameError\u001b[0m: name 'tyep' is not defined"
     ]
    }
   ],
   "source": [
    "tyep(f)"
   ]
  },
  {
   "cell_type": "code",
   "execution_count": 24,
   "id": "2cc588d3-0a59-4665-b86a-b9eea45ddead",
   "metadata": {},
   "outputs": [
    {
     "data": {
      "text/plain": [
       "bool"
      ]
     },
     "execution_count": 24,
     "metadata": {},
     "output_type": "execute_result"
    }
   ],
   "source": [
    "type(f)"
   ]
  },
  {
   "cell_type": "code",
   "execution_count": 25,
   "id": "d23038e3-06d1-4790-a6a5-59fb61055f04",
   "metadata": {},
   "outputs": [],
   "source": [
    "g = False"
   ]
  },
  {
   "cell_type": "code",
   "execution_count": 26,
   "id": "f16e841d-d702-433f-8318-20aa2c37ac02",
   "metadata": {},
   "outputs": [
    {
     "data": {
      "text/plain": [
       "False"
      ]
     },
     "execution_count": 26,
     "metadata": {},
     "output_type": "execute_result"
    }
   ],
   "source": [
    "g"
   ]
  },
  {
   "cell_type": "code",
   "execution_count": 27,
   "id": "a6a9d36f-dd0a-4556-bae2-16eebd1bb79b",
   "metadata": {},
   "outputs": [
    {
     "data": {
      "text/plain": [
       "bool"
      ]
     },
     "execution_count": 27,
     "metadata": {},
     "output_type": "execute_result"
    }
   ],
   "source": [
    "type(g)"
   ]
  },
  {
   "cell_type": "code",
   "execution_count": 28,
   "id": "f485fd4e-daf5-4182-9e7e-7c9df258ea40",
   "metadata": {},
   "outputs": [
    {
     "data": {
      "text/plain": [
       "1"
      ]
     },
     "execution_count": 28,
     "metadata": {},
     "output_type": "execute_result"
    }
   ],
   "source": [
    "True - False"
   ]
  },
  {
   "cell_type": "code",
   "execution_count": 29,
   "id": "265fefe2-74f3-4e09-8256-4422f164a561",
   "metadata": {},
   "outputs": [
    {
     "data": {
      "text/plain": [
       "-1"
      ]
     },
     "execution_count": 29,
     "metadata": {},
     "output_type": "execute_result"
    }
   ],
   "source": [
    "False - True"
   ]
  },
  {
   "cell_type": "code",
   "execution_count": 30,
   "id": "c403d479-468f-4237-9630-b7455b0691ec",
   "metadata": {},
   "outputs": [
    {
     "data": {
      "text/plain": [
       "0"
      ]
     },
     "execution_count": 30,
     "metadata": {},
     "output_type": "execute_result"
    }
   ],
   "source": [
    "True*False"
   ]
  },
  {
   "cell_type": "code",
   "execution_count": 31,
   "id": "cfe546af-735e-4cf1-a868-e144a388c126",
   "metadata": {},
   "outputs": [
    {
     "ename": "ZeroDivisionError",
     "evalue": "division by zero",
     "output_type": "error",
     "traceback": [
      "\u001b[0;31m---------------------------------------------------------------------------\u001b[0m",
      "\u001b[0;31mZeroDivisionError\u001b[0m                         Traceback (most recent call last)",
      "Cell \u001b[0;32mIn[31], line 1\u001b[0m\n\u001b[0;32m----> 1\u001b[0m \u001b[38;5;28;43;01mTrue\u001b[39;49;00m\u001b[38;5;241;43m/\u001b[39;49m\u001b[38;5;28;43;01mFalse\u001b[39;49;00m\n",
      "\u001b[0;31mZeroDivisionError\u001b[0m: division by zero"
     ]
    }
   ],
   "source": [
    "True/False"
   ]
  },
  {
   "cell_type": "code",
   "execution_count": 32,
   "id": "5c0a531b-acfd-4000-b10b-0a5181924bc6",
   "metadata": {},
   "outputs": [],
   "source": [
    "#because above result is infinity ,so system won't show infinity "
   ]
  },
  {
   "cell_type": "code",
   "execution_count": 34,
   "id": "e606c74f-667e-4215-8870-a8ead80d6e27",
   "metadata": {},
   "outputs": [],
   "source": [
    "#complex number is combination of real and imajinary number is mentioned down "
   ]
  },
  {
   "cell_type": "code",
   "execution_count": 35,
   "id": "58d639cb-280e-4b3e-a56a-6e00ae2ff513",
   "metadata": {},
   "outputs": [],
   "source": [
    "f = 5+6j"
   ]
  },
  {
   "cell_type": "code",
   "execution_count": 36,
   "id": "4bbdb1df-67e1-4250-b52a-89cd213b5d4c",
   "metadata": {},
   "outputs": [
    {
     "data": {
      "text/plain": [
       "(5+6j)"
      ]
     },
     "execution_count": 36,
     "metadata": {},
     "output_type": "execute_result"
    }
   ],
   "source": [
    "f"
   ]
  },
  {
   "cell_type": "code",
   "execution_count": 37,
   "id": "c607e6b7-3ff4-4684-9d1a-9885e624cad4",
   "metadata": {},
   "outputs": [
    {
     "data": {
      "text/plain": [
       "complex"
      ]
     },
     "execution_count": 37,
     "metadata": {},
     "output_type": "execute_result"
    }
   ],
   "source": [
    "type(f)"
   ]
  },
  {
   "cell_type": "code",
   "execution_count": 38,
   "id": "836c4819-df9d-4647-9441-16433e1510b5",
   "metadata": {},
   "outputs": [],
   "source": [
    "# if anything other than j is placed it won't be consodered as complex number "
   ]
  },
  {
   "cell_type": "code",
   "execution_count": 42,
   "id": "90ddae16-bb62-4101-81fa-2e082d59891b",
   "metadata": {},
   "outputs": [
    {
     "ename": "SyntaxError",
     "evalue": "invalid decimal literal (2932960456.py, line 1)",
     "output_type": "error",
     "traceback": [
      "\u001b[0;36m  Cell \u001b[0;32mIn[42], line 1\u001b[0;36m\u001b[0m\n\u001b[0;31m    g= 4+6i\u001b[0m\n\u001b[0m         ^\u001b[0m\n\u001b[0;31mSyntaxError\u001b[0m\u001b[0;31m:\u001b[0m invalid decimal literal\n"
     ]
    }
   ],
   "source": [
    "g= 4+6i"
   ]
  },
  {
   "cell_type": "code",
   "execution_count": 40,
   "id": "c134adf2-86fa-4dfe-9c0f-5ca385851122",
   "metadata": {},
   "outputs": [],
   "source": [
    "# if anything is placed other than j then we will get above error "
   ]
  },
  {
   "cell_type": "code",
   "execution_count": 43,
   "id": "43059893-d4f8-4e4c-81c0-0359e687ca87",
   "metadata": {},
   "outputs": [
    {
     "data": {
      "text/plain": [
       "bool"
      ]
     },
     "execution_count": 43,
     "metadata": {},
     "output_type": "execute_result"
    }
   ],
   "source": [
    "type(g)\n"
   ]
  },
  {
   "cell_type": "code",
   "execution_count": 44,
   "id": "bf7a0c5b-41e9-418d-83c6-4853fa9bcd58",
   "metadata": {},
   "outputs": [],
   "source": [
    "# variable can't be a integer type ever "
   ]
  },
  {
   "cell_type": "code",
   "execution_count": 45,
   "id": "cc29d512-f320-40ed-abaa-1452cbce1019",
   "metadata": {},
   "outputs": [
    {
     "ename": "SyntaxError",
     "evalue": "cannot assign to literal here. Maybe you meant '==' instead of '='? (768329996.py, line 1)",
     "output_type": "error",
     "traceback": [
      "\u001b[0;36m  Cell \u001b[0;32mIn[45], line 1\u001b[0;36m\u001b[0m\n\u001b[0;31m    365 = 3\u001b[0m\n\u001b[0m    ^\u001b[0m\n\u001b[0;31mSyntaxError\u001b[0m\u001b[0;31m:\u001b[0m cannot assign to literal here. Maybe you meant '==' instead of '='?\n"
     ]
    }
   ],
   "source": [
    "365 = 3"
   ]
  },
  {
   "cell_type": "code",
   "execution_count": 46,
   "id": "45db5bb9-03e0-4dac-99df-a1f6b3ba0036",
   "metadata": {},
   "outputs": [],
   "source": [
    "# if we keep a variable with alpha numeric value then it won't accept "
   ]
  },
  {
   "cell_type": "code",
   "execution_count": 47,
   "id": "abdf2aaa-66fc-4020-8d01-247a31fd0270",
   "metadata": {},
   "outputs": [
    {
     "ename": "SyntaxError",
     "evalue": "invalid decimal literal (3626393295.py, line 1)",
     "output_type": "error",
     "traceback": [
      "\u001b[0;36m  Cell \u001b[0;32mIn[47], line 1\u001b[0;36m\u001b[0m\n\u001b[0;31m    45gh = 4\u001b[0m\n\u001b[0m     ^\u001b[0m\n\u001b[0;31mSyntaxError\u001b[0m\u001b[0;31m:\u001b[0m invalid decimal literal\n"
     ]
    }
   ],
   "source": [
    "45gh = 4"
   ]
  },
  {
   "cell_type": "code",
   "execution_count": 48,
   "id": "2e457628-e971-42ee-9831-28a6b22f011f",
   "metadata": {},
   "outputs": [],
   "source": [
    "# is used for comment so it won't execute \n"
   ]
  },
  {
   "cell_type": "code",
   "execution_count": 49,
   "id": "0fc462b6-e9dc-48a1-8a90-b30a02ba358c",
   "metadata": {},
   "outputs": [],
   "source": [
    "#special case character should not be used before a number "
   ]
  },
  {
   "cell_type": "code",
   "execution_count": 50,
   "id": "ece07b8b-258a-4b74-82a6-b12e0e29aeb5",
   "metadata": {},
   "outputs": [
    {
     "ename": "SyntaxError",
     "evalue": "invalid syntax (3025502667.py, line 1)",
     "output_type": "error",
     "traceback": [
      "\u001b[0;36m  Cell \u001b[0;32mIn[50], line 1\u001b[0;36m\u001b[0m\n\u001b[0;31m    $4 = 5\u001b[0m\n\u001b[0m    ^\u001b[0m\n\u001b[0;31mSyntaxError\u001b[0m\u001b[0;31m:\u001b[0m invalid syntax\n"
     ]
    }
   ],
   "source": [
    "$4 = 5"
   ]
  },
  {
   "cell_type": "code",
   "execution_count": 51,
   "id": "b98ffdca-70a7-460c-ab6e-cac16e371d7b",
   "metadata": {},
   "outputs": [],
   "source": [
    "_a =65"
   ]
  },
  {
   "cell_type": "code",
   "execution_count": 52,
   "id": "5806b95a-2a54-4b45-aa9f-fe51f8787170",
   "metadata": {},
   "outputs": [
    {
     "data": {
      "text/plain": [
       "65"
      ]
     },
     "execution_count": 52,
     "metadata": {},
     "output_type": "execute_result"
    }
   ],
   "source": [
    "_a\n"
   ]
  },
  {
   "cell_type": "code",
   "execution_count": 54,
   "id": "d377d9d2-7ff1-4067-af3e-c1669bfc057f",
   "metadata": {},
   "outputs": [
    {
     "data": {
      "text/plain": [
       "int"
      ]
     },
     "execution_count": 54,
     "metadata": {},
     "output_type": "execute_result"
    }
   ],
   "source": [
    "type(_a)"
   ]
  },
  {
   "cell_type": "code",
   "execution_count": 55,
   "id": "83d2eb8a-5054-4042-895f-611c9abfcc05",
   "metadata": {},
   "outputs": [
    {
     "ename": "SyntaxError",
     "evalue": "invalid syntax. Maybe you meant '==' or ':=' instead of '='? (2095722304.py, line 1)",
     "output_type": "error",
     "traceback": [
      "\u001b[0;36m  Cell \u001b[0;32mIn[55], line 1\u001b[0;36m\u001b[0m\n\u001b[0;31m    @a = 65\u001b[0m\n\u001b[0m     ^\u001b[0m\n\u001b[0;31mSyntaxError\u001b[0m\u001b[0;31m:\u001b[0m invalid syntax. Maybe you meant '==' or ':=' instead of '='?\n"
     ]
    }
   ],
   "source": [
    "@a = 65"
   ]
  },
  {
   "cell_type": "code",
   "execution_count": null,
   "id": "96edb49c-914b-47b9-907b-873692919b0b",
   "metadata": {},
   "outputs": [],
   "source": []
  }
 ],
 "metadata": {
  "kernelspec": {
   "display_name": "Python 3 (ipykernel)",
   "language": "python",
   "name": "python3"
  },
  "language_info": {
   "codemirror_mode": {
    "name": "ipython",
    "version": 3
   },
   "file_extension": ".py",
   "mimetype": "text/x-python",
   "name": "python",
   "nbconvert_exporter": "python",
   "pygments_lexer": "ipython3",
   "version": "3.10.8"
  }
 },
 "nbformat": 4,
 "nbformat_minor": 5
}
