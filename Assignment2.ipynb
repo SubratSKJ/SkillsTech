{
 "cells": [
  {
   "cell_type": "markdown",
   "id": "56763b3b-5958-4450-958a-a9edde26bb3e",
   "metadata": {},
   "source": [
    "Q1. How do you comment code in Python? What are the different types of comments?\n",
    "\n",
    "Ans: We can comment multiple line using \"\"\" \"\"\" and single line comment using #\n",
    "\"\"\"dsgFDSGfd\n",
    "fgdgssfdg\n",
    "dfa\"\"\"\n",
    "#dsfas "
   ]
  },
  {
   "cell_type": "markdown",
   "id": "ff543234-9df3-446f-a70d-10893e400413",
   "metadata": {},
   "source": [
    "Q2. What are variables in Python? How do you declare and assign values to variables?\n",
    "\n",
    "Ans: Variable is a storage or pointer to a value or objects in python.We can use to store data related to string ,int value ,list ,tuple etc.\n",
    "l is a variable here which hold list type of data \n",
    "l=[1,2,3,4,\"string\",\"subrat\",True]\n",
    "a=10 -- holds int data here\n",
    "sub=\"Subrat\" --holds string type of data\n"
   ]
  },
  {
   "cell_type": "markdown",
   "id": "8be3c571-42c3-41e9-a858-11adbda4dd1f",
   "metadata": {},
   "source": [
    "Q3. How do you convert one data type to another in Python?\n",
    "\n",
    "Ans: We can convert from one data type to another data type using cast \n",
    "When we try to get the data from a user it considers the data as string datatype but ideally we need to receive a int datatype to evaluate \n",
    "marks = int(input(\"Enter Marks\"))\n",
    "here it accepts data value as string but when we enter it accepts as integer value here ."
   ]
  },
  {
   "cell_type": "markdown",
   "id": "a4cc988a-011e-442e-b8cf-f003afa053de",
   "metadata": {},
   "source": [
    "Q4. How do you write and execute a Python script from the command line?\n",
    "\n",
    "Ans: We can open cmd prompt and then type python ,it will connect if already installed or else we need to install then type to acces python and then press enter , it will prompt Hello World which will make sure that we connected to python ."
   ]
  },
  {
   "cell_type": "code",
   "execution_count": 9,
   "id": "106176df-4bd8-412b-ae60-9d4388c668f1",
   "metadata": {},
   "outputs": [
    {
     "name": "stdout",
     "output_type": "stream",
     "text": [
      "1\n",
      "2\n",
      "3\n",
      "4\n",
      "5\n"
     ]
    },
    {
     "data": {
      "text/plain": [
       "[2, 3]"
      ]
     },
     "execution_count": 9,
     "metadata": {},
     "output_type": "execute_result"
    }
   ],
   "source": [
    "#Q5. Given a list my_list = [1, 2, 3, 4, 5], write the code to slice the list and obtain the sub-list [2, 3]\n",
    "my_list = [1, 2, 3, 4, 5]\n",
    "my_list\n",
    "\n",
    "sub_list =[]\n",
    "for i in my_list:\n",
    "    print(i)\n",
    "    if i in (2,3) :\n",
    "        sub_list.append(i)\n",
    "        \n",
    "sub_list  "
   ]
  },
  {
   "cell_type": "markdown",
   "id": "805d885a-7339-4dc9-befa-bb0db9548881",
   "metadata": {},
   "source": [
    "Q6. What is a complex number in mathematics, and how is it represented in Python?\n",
    "\n",
    "Ans:Complex number in mathematics is represented in form of a+bi form where a and b are represented as real numbers and i is the imaginary part , 2+3i here 2 is the real number and 3i is the imaginary part .\n",
    "\n",
    "In python it is represented by 2+3j here j is the imaginary part represented in python.\n",
    "\n"
   ]
  },
  {
   "cell_type": "code",
   "execution_count": 11,
   "id": "45da1fc4-a68b-4205-84ac-fcb9c8aa2dc3",
   "metadata": {},
   "outputs": [
    {
     "data": {
      "text/plain": [
       "25"
      ]
     },
     "execution_count": 11,
     "metadata": {},
     "output_type": "execute_result"
    }
   ],
   "source": [
    "#Q7. What is the correct way to declare a variable named age and assign the value 25 to it?\n",
    "\n",
    "age = 25\n",
    "age"
   ]
  },
  {
   "cell_type": "markdown",
   "id": "11f359e1-4787-487b-ba28-2ed1f45e5b2e",
   "metadata": {},
   "source": [
    "Q8. Declare a variable named price and assign the value 9.99 to it. What data type does this variable\n",
    "belong to?\n",
    "\n"
   ]
  },
  {
   "cell_type": "code",
   "execution_count": 14,
   "id": "3e314b9a-1a13-4169-b70a-55151e7bb03e",
   "metadata": {},
   "outputs": [
    {
     "data": {
      "text/plain": [
       "float"
      ]
     },
     "execution_count": 14,
     "metadata": {},
     "output_type": "execute_result"
    }
   ],
   "source": [
    "price = 9.99\n",
    "price\n",
    "type(price)"
   ]
  },
  {
   "cell_type": "markdown",
   "id": "aefe68a5-b130-42c4-a1d9-8528c781cc4e",
   "metadata": {},
   "source": [
    "Q9. Create a variable named name and assign your full name to it as a string. How would you print the\n",
    "value of this variable?\n"
   ]
  },
  {
   "cell_type": "code",
   "execution_count": 18,
   "id": "750e7cc3-b2e6-4a18-9d93-c6dfcb760960",
   "metadata": {},
   "outputs": [
    {
     "name": "stdout",
     "output_type": "stream",
     "text": [
      "Subrat Kumar Jena\n"
     ]
    }
   ],
   "source": [
    "name = 'Subrat Kumar Jena'\n",
    "name\n",
    "print(name)"
   ]
  },
  {
   "cell_type": "markdown",
   "id": "44882aa2-2380-42a9-80a0-b2eff6d002fc",
   "metadata": {},
   "source": [
    "Q10. Given the string \"Hello, World!\", extract the substring \"World\"."
   ]
  },
  {
   "cell_type": "code",
   "execution_count": 19,
   "id": "e57875ef-d8b6-4f1c-998f-3871d1fafd0c",
   "metadata": {},
   "outputs": [
    {
     "data": {
      "text/plain": [
       "'World'"
      ]
     },
     "execution_count": 19,
     "metadata": {},
     "output_type": "execute_result"
    }
   ],
   "source": [
    "string = \"Hello,World!\"\n",
    "string[6:11]"
   ]
  },
  {
   "cell_type": "markdown",
   "id": "12f94967-a51d-4a9c-8997-cdfc9749ec83",
   "metadata": {},
   "source": [
    "Q11. Create a variable named \"is_student\" and assign it a boolean value indicating whether you are\n",
    "currently a student or not."
   ]
  },
  {
   "cell_type": "code",
   "execution_count": 20,
   "id": "6f2f61b6-2806-4ae7-8f6d-78777c7f914d",
   "metadata": {},
   "outputs": [],
   "source": [
    "is_student = [True,False]"
   ]
  },
  {
   "cell_type": "code",
   "execution_count": 23,
   "id": "23c79144-a107-4b7f-a755-ac9c4190b185",
   "metadata": {},
   "outputs": [
    {
     "data": {
      "text/plain": [
       "1"
      ]
     },
     "execution_count": 23,
     "metadata": {},
     "output_type": "execute_result"
    }
   ],
   "source": [
    "int(bool(is_student))"
   ]
  },
  {
   "cell_type": "code",
   "execution_count": null,
   "id": "e7e4aee0-c421-4f2e-92e9-8a0c07d6b928",
   "metadata": {},
   "outputs": [],
   "source": []
  }
 ],
 "metadata": {
  "kernelspec": {
   "display_name": "Python 3 (ipykernel)",
   "language": "python",
   "name": "python3"
  },
  "language_info": {
   "codemirror_mode": {
    "name": "ipython",
    "version": 3
   },
   "file_extension": ".py",
   "mimetype": "text/x-python",
   "name": "python",
   "nbconvert_exporter": "python",
   "pygments_lexer": "ipython3",
   "version": "3.10.8"
  }
 },
 "nbformat": 4,
 "nbformat_minor": 5
}
