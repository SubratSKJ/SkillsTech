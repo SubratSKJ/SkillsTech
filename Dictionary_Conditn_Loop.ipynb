{
 "cells": [
  {
   "cell_type": "code",
   "execution_count": null,
   "id": "050b02a7-d4ed-4235-81b9-2a64e6bac68b",
   "metadata": {},
   "outputs": [],
   "source": [
    "d={}"
   ]
  },
  {
   "cell_type": "code",
   "execution_count": 40,
   "id": "347104a5-2666-4e77-9ea2-86416427b254",
   "metadata": {},
   "outputs": [
    {
     "data": {
      "text/plain": [
       "{}"
      ]
     },
     "execution_count": 40,
     "metadata": {},
     "output_type": "execute_result"
    }
   ],
   "source": [
    "d"
   ]
  },
  {
   "cell_type": "code",
   "execution_count": 3,
   "id": "d340c485-e563-4701-81ad-7f1535841ad2",
   "metadata": {},
   "outputs": [
    {
     "data": {
      "text/plain": [
       "dict"
      ]
     },
     "execution_count": 3,
     "metadata": {},
     "output_type": "execute_result"
    }
   ],
   "source": [
    "type(d)"
   ]
  },
  {
   "cell_type": "code",
   "execution_count": 4,
   "id": "92ed882b-e20e-4e84-9eba-171d4922d4a0",
   "metadata": {},
   "outputs": [],
   "source": [
    "d1 = {'Key':'sub'}"
   ]
  },
  {
   "cell_type": "code",
   "execution_count": 5,
   "id": "d485786d-c287-4c2f-8d4d-6ab27e7ef920",
   "metadata": {},
   "outputs": [
    {
     "data": {
      "text/plain": [
       "{'Key': 'sub'}"
      ]
     },
     "execution_count": 5,
     "metadata": {},
     "output_type": "execute_result"
    }
   ],
   "source": [
    "d1"
   ]
  },
  {
   "cell_type": "code",
   "execution_count": 6,
   "id": "6e28cb74-1475-42cb-add1-3c1ba0270042",
   "metadata": {},
   "outputs": [],
   "source": [
    "d2 = {'name':\"Subrat\",'email':'jenasubrat.skj@gmail.com','number':'24501273','org':'TCS'}"
   ]
  },
  {
   "cell_type": "code",
   "execution_count": 7,
   "id": "d2b47234-1ba6-437c-a081-dee7f250e41f",
   "metadata": {},
   "outputs": [
    {
     "data": {
      "text/plain": [
       "{'name': 'Subrat',\n",
       " 'email': 'jenasubrat.skj@gmail.com',\n",
       " 'number': '24501273',\n",
       " 'org': 'TCS'}"
      ]
     },
     "execution_count": 7,
     "metadata": {},
     "output_type": "execute_result"
    }
   ],
   "source": [
    "d2"
   ]
  },
  {
   "cell_type": "code",
   "execution_count": 8,
   "id": "3364a88d-1fa9-4b75-95e2-f4c78cdd88d3",
   "metadata": {},
   "outputs": [
    {
     "data": {
      "text/plain": [
       "dict"
      ]
     },
     "execution_count": 8,
     "metadata": {},
     "output_type": "execute_result"
    }
   ],
   "source": [
    "type(d2)"
   ]
  },
  {
   "cell_type": "code",
   "execution_count": 9,
   "id": "37fa44a3-0064-4cf6-b7c4-bfd368c24c3a",
   "metadata": {},
   "outputs": [],
   "source": [
    "d3 = {234:'subrat'} # we can consider numberic or character value in Key value but can't take speacial character can use \n",
    "#bollean values as key name "
   ]
  },
  {
   "cell_type": "code",
   "execution_count": 10,
   "id": "dce56311-3037-487c-916b-4c42c0101990",
   "metadata": {},
   "outputs": [
    {
     "data": {
      "text/plain": [
       "{234: 'subrat'}"
      ]
     },
     "execution_count": 10,
     "metadata": {},
     "output_type": "execute_result"
    }
   ],
   "source": [
    "d3"
   ]
  },
  {
   "cell_type": "code",
   "execution_count": 11,
   "id": "767e2acc-018e-40f1-9cdf-810a78e64996",
   "metadata": {},
   "outputs": [],
   "source": [
    "d3 = {234: 'subrat',True:123456,'_wasd':'jena'}"
   ]
  },
  {
   "cell_type": "code",
   "execution_count": 12,
   "id": "060b7118-ac4c-4bcc-9125-fc36e681c220",
   "metadata": {},
   "outputs": [
    {
     "data": {
      "text/plain": [
       "'subrat'"
      ]
     },
     "execution_count": 12,
     "metadata": {},
     "output_type": "execute_result"
    }
   ],
   "source": [
    "d3[234]"
   ]
  },
  {
   "cell_type": "code",
   "execution_count": 13,
   "id": "f44ea1e6-a2dd-4eec-8d71-70d6b07345cc",
   "metadata": {},
   "outputs": [
    {
     "data": {
      "text/plain": [
       "123456"
      ]
     },
     "execution_count": 13,
     "metadata": {},
     "output_type": "execute_result"
    }
   ],
   "source": [
    "d3[True]"
   ]
  },
  {
   "cell_type": "code",
   "execution_count": 14,
   "id": "7932e985-99a9-4922-9db5-2ae24e7a57a9",
   "metadata": {},
   "outputs": [
    {
     "data": {
      "text/plain": [
       "123456"
      ]
     },
     "execution_count": 14,
     "metadata": {},
     "output_type": "execute_result"
    }
   ],
   "source": [
    "d3[1]"
   ]
  },
  {
   "cell_type": "code",
   "execution_count": 15,
   "id": "edce01af-46d1-43b2-9244-c156c1fa801f",
   "metadata": {},
   "outputs": [],
   "source": [
    "d4 ={'name':'subrat','mailid':'ss@gmail.com','name':'subratkumarjena'}  # dictionary will \n",
    "#overwrite with the new values and it is the property of key , it will pick the latest value always"
   ]
  },
  {
   "cell_type": "code",
   "execution_count": 16,
   "id": "2f99d0c6-0012-405f-a9c1-27d27d1bddc3",
   "metadata": {},
   "outputs": [
    {
     "data": {
      "text/plain": [
       "{'name': 'subratkumarjena', 'mailid': 'ss@gmail.com'}"
      ]
     },
     "execution_count": 16,
     "metadata": {},
     "output_type": "execute_result"
    }
   ],
   "source": [
    "d4"
   ]
  },
  {
   "cell_type": "code",
   "execution_count": 17,
   "id": "f69cf2e9-d84e-4dcf-b41d-a238180c315a",
   "metadata": {},
   "outputs": [
    {
     "data": {
      "text/plain": [
       "'subratkumarjena'"
      ]
     },
     "execution_count": 17,
     "metadata": {},
     "output_type": "execute_result"
    }
   ],
   "source": [
    "d4['name']"
   ]
  },
  {
   "cell_type": "code",
   "execution_count": 18,
   "id": "1d97c6cc-5bd9-4db2-89c2-9577c7e26a9b",
   "metadata": {},
   "outputs": [],
   "source": [
    "#key should be always unique if duplicate key then the latest will be picked up "
   ]
  },
  {
   "cell_type": "code",
   "execution_count": 19,
   "id": "a8f4bc70-0c45-4c22-abcf-66dbfa1f1b99",
   "metadata": {},
   "outputs": [],
   "source": [
    "d5 = {\"company\":\"pwskills\",\"course\":[\"web dev\",\"Data Science\",\"java with dsa system design\"]}"
   ]
  },
  {
   "cell_type": "code",
   "execution_count": 20,
   "id": "c320cb09-9159-4176-ac60-2dc2d65b283f",
   "metadata": {},
   "outputs": [
    {
     "data": {
      "text/plain": [
       "{'company': 'pwskills',\n",
       " 'course': ['web dev', 'Data Science', 'java with dsa system design']}"
      ]
     },
     "execution_count": 20,
     "metadata": {},
     "output_type": "execute_result"
    }
   ],
   "source": [
    "d5"
   ]
  },
  {
   "cell_type": "code",
   "execution_count": 21,
   "id": "8cafaec5-8e2f-44a6-9a75-16f04a55609a",
   "metadata": {},
   "outputs": [
    {
     "data": {
      "text/plain": [
       "['web dev', 'Data Science', 'java with dsa system design']"
      ]
     },
     "execution_count": 21,
     "metadata": {},
     "output_type": "execute_result"
    }
   ],
   "source": [
    "d5['course']"
   ]
  },
  {
   "cell_type": "code",
   "execution_count": 22,
   "id": "42cace7f-2eca-4c7a-88b2-259763b0d089",
   "metadata": {},
   "outputs": [
    {
     "data": {
      "text/plain": [
       "'java with dsa system design'"
      ]
     },
     "execution_count": 22,
     "metadata": {},
     "output_type": "execute_result"
    }
   ],
   "source": [
    "d5['course'][2]"
   ]
  },
  {
   "cell_type": "code",
   "execution_count": 23,
   "id": "85c59d24-700f-4d79-926f-730764da4f1d",
   "metadata": {},
   "outputs": [],
   "source": [
    "d6 = {\"number\" : [2,3,45,5,46,67,82,9],\"assignment\" : (1,2,3,4,5,6,7),\"launch_date\":{28,12,14},\"classtime\":{\"web_dev\":8,\"DataScience Master\":8,\"java with dsa and systemdesign\":7}}"
   ]
  },
  {
   "cell_type": "code",
   "execution_count": 24,
   "id": "3b89d508-f207-45a4-a04a-3046e8408e0d",
   "metadata": {},
   "outputs": [
    {
     "data": {
      "text/plain": [
       "{'number': [2, 3, 45, 5, 46, 67, 82, 9],\n",
       " 'assignment': (1, 2, 3, 4, 5, 6, 7),\n",
       " 'launch_date': {12, 14, 28},\n",
       " 'classtime': {'web_dev': 8,\n",
       "  'DataScience Master': 8,\n",
       "  'java with dsa and systemdesign': 7}}"
      ]
     },
     "execution_count": 24,
     "metadata": {},
     "output_type": "execute_result"
    }
   ],
   "source": [
    "d6"
   ]
  },
  {
   "cell_type": "code",
   "execution_count": 25,
   "id": "b757c5ad-c2f1-41bf-b365-fd794fa3a361",
   "metadata": {},
   "outputs": [
    {
     "data": {
      "text/plain": [
       "{'web_dev': 8, 'DataScience Master': 8, 'java with dsa and systemdesign': 7}"
      ]
     },
     "execution_count": 25,
     "metadata": {},
     "output_type": "execute_result"
    }
   ],
   "source": [
    "d6['classtime']"
   ]
  },
  {
   "cell_type": "code",
   "execution_count": 26,
   "id": "113512b2-7313-487a-b14d-8abb70c984ee",
   "metadata": {},
   "outputs": [
    {
     "data": {
      "text/plain": [
       "7"
      ]
     },
     "execution_count": 26,
     "metadata": {},
     "output_type": "execute_result"
    }
   ],
   "source": [
    "d6['classtime']['java with dsa and systemdesign']"
   ]
  },
  {
   "cell_type": "code",
   "execution_count": 27,
   "id": "04c46b39-f990-45ed-92e7-9fc35f080892",
   "metadata": {},
   "outputs": [],
   "source": [
    "d6['mentor']=[\"sudhanshu\",\"krish\",\"anurag\",\"Hyder\"]"
   ]
  },
  {
   "cell_type": "code",
   "execution_count": 28,
   "id": "545af3f0-bfbd-4645-bb43-2c4d5cb48b37",
   "metadata": {},
   "outputs": [
    {
     "data": {
      "text/plain": [
       "{'number': [2, 3, 45, 5, 46, 67, 82, 9],\n",
       " 'assignment': (1, 2, 3, 4, 5, 6, 7),\n",
       " 'launch_date': {12, 14, 28},\n",
       " 'classtime': {'web_dev': 8,\n",
       "  'DataScience Master': 8,\n",
       "  'java with dsa and systemdesign': 7},\n",
       " 'mentor': ['sudhanshu', 'krish', 'anurag', 'Hyder']}"
      ]
     },
     "execution_count": 28,
     "metadata": {},
     "output_type": "execute_result"
    }
   ],
   "source": [
    "d6"
   ]
  },
  {
   "cell_type": "code",
   "execution_count": 29,
   "id": "b106482f-0f0b-4d56-814f-38cb043c4a52",
   "metadata": {},
   "outputs": [],
   "source": [
    "#if the same key is already available then it will update the values or else it will add the new key value \n"
   ]
  },
  {
   "cell_type": "code",
   "execution_count": 30,
   "id": "627fb484-2ef7-43c3-8ade-035de7313bf7",
   "metadata": {},
   "outputs": [],
   "source": [
    "del d6['number']  # to delete a key from a dictionary"
   ]
  },
  {
   "cell_type": "code",
   "execution_count": 31,
   "id": "a2f99f5d-3c7c-4c3d-9acc-10c56a6c56b6",
   "metadata": {},
   "outputs": [
    {
     "data": {
      "text/plain": [
       "{'assignment': (1, 2, 3, 4, 5, 6, 7),\n",
       " 'launch_date': {12, 14, 28},\n",
       " 'classtime': {'web_dev': 8,\n",
       "  'DataScience Master': 8,\n",
       "  'java with dsa and systemdesign': 7},\n",
       " 'mentor': ['sudhanshu', 'krish', 'anurag', 'Hyder']}"
      ]
     },
     "execution_count": 31,
     "metadata": {},
     "output_type": "execute_result"
    }
   ],
   "source": [
    "d6"
   ]
  },
  {
   "cell_type": "code",
   "execution_count": 32,
   "id": "df30c341-8dfc-48a5-804b-266e6dae5430",
   "metadata": {},
   "outputs": [
    {
     "data": {
      "text/plain": [
       "dict_keys(['assignment', 'launch_date', 'classtime', 'mentor'])"
      ]
     },
     "execution_count": 32,
     "metadata": {},
     "output_type": "execute_result"
    }
   ],
   "source": [
    "d6.keys()   # to get list of all keys in a dictionary"
   ]
  },
  {
   "cell_type": "code",
   "execution_count": 33,
   "id": "c9a52b3f-0acf-48f5-8216-4fb9a97dbbaf",
   "metadata": {},
   "outputs": [
    {
     "data": {
      "text/plain": [
       "dict_values([(1, 2, 3, 4, 5, 6, 7), {28, 12, 14}, {'web_dev': 8, 'DataScience Master': 8, 'java with dsa and systemdesign': 7}, ['sudhanshu', 'krish', 'anurag', 'Hyder']])"
      ]
     },
     "execution_count": 33,
     "metadata": {},
     "output_type": "execute_result"
    }
   ],
   "source": [
    "d6.values() # to get list of all values from a dictionary"
   ]
  },
  {
   "cell_type": "code",
   "execution_count": 34,
   "id": "bf6923f6-a47d-493c-9bec-32300b57b7be",
   "metadata": {},
   "outputs": [
    {
     "data": {
      "text/plain": [
       "[(1, 2, 3, 4, 5, 6, 7),\n",
       " {12, 14, 28},\n",
       " {'web_dev': 8, 'DataScience Master': 8, 'java with dsa and systemdesign': 7},\n",
       " ['sudhanshu', 'krish', 'anurag', 'Hyder']]"
      ]
     },
     "execution_count": 34,
     "metadata": {},
     "output_type": "execute_result"
    }
   ],
   "source": [
    "list(d6.values()) # to convert to list similary you can convert to any type set tuples etc "
   ]
  },
  {
   "cell_type": "code",
   "execution_count": 35,
   "id": "bc75c51e-cb6d-4361-8999-5f0a99fbac62",
   "metadata": {},
   "outputs": [
    {
     "data": {
      "text/plain": [
       "dict_items([('assignment', (1, 2, 3, 4, 5, 6, 7)), ('launch_date', {28, 12, 14}), ('classtime', {'web_dev': 8, 'DataScience Master': 8, 'java with dsa and systemdesign': 7}), ('mentor', ['sudhanshu', 'krish', 'anurag', 'Hyder'])])"
      ]
     },
     "execution_count": 35,
     "metadata": {},
     "output_type": "execute_result"
    }
   ],
   "source": [
    "d6.items()"
   ]
  },
  {
   "cell_type": "code",
   "execution_count": 36,
   "id": "ba5139bd-2134-40d7-b354-5b568841618f",
   "metadata": {},
   "outputs": [
    {
     "data": {
      "text/plain": [
       "[('assignment', (1, 2, 3, 4, 5, 6, 7)),\n",
       " ('launch_date', {12, 14, 28}),\n",
       " ('classtime',\n",
       "  {'web_dev': 8,\n",
       "   'DataScience Master': 8,\n",
       "   'java with dsa and systemdesign': 7}),\n",
       " ('mentor', ['sudhanshu', 'krish', 'anurag', 'Hyder'])]"
      ]
     },
     "execution_count": 36,
     "metadata": {},
     "output_type": "execute_result"
    }
   ],
   "source": [
    "list(d6.items())"
   ]
  },
  {
   "cell_type": "code",
   "execution_count": 37,
   "id": "08bbd6a2-399d-42f9-b6a7-cdee7766116d",
   "metadata": {},
   "outputs": [
    {
     "data": {
      "text/plain": [
       "(1, 2, 3, 4, 5, 6, 7)"
      ]
     },
     "execution_count": 37,
     "metadata": {},
     "output_type": "execute_result"
    }
   ],
   "source": [
    "d6.pop('assignment')    #pop an del to delete "
   ]
  },
  {
   "cell_type": "code",
   "execution_count": 38,
   "id": "ec118e00-95d2-42b8-ba00-2b8ad9381ffe",
   "metadata": {},
   "outputs": [
    {
     "data": {
      "text/plain": [
       "{'launch_date': {12, 14, 28},\n",
       " 'classtime': {'web_dev': 8,\n",
       "  'DataScience Master': 8,\n",
       "  'java with dsa and systemdesign': 7},\n",
       " 'mentor': ['sudhanshu', 'krish', 'anurag', 'Hyder']}"
      ]
     },
     "execution_count": 38,
     "metadata": {},
     "output_type": "execute_result"
    }
   ],
   "source": [
    "d6\n"
   ]
  },
  {
   "cell_type": "code",
   "execution_count": 39,
   "id": "f89c4930-12f8-46ae-ad34-472a7e62958a",
   "metadata": {},
   "outputs": [
    {
     "ename": "TypeError",
     "evalue": "pop expected at least 1 argument, got 0",
     "output_type": "error",
     "traceback": [
      "\u001b[0;31m---------------------------------------------------------------------------\u001b[0m",
      "\u001b[0;31mTypeError\u001b[0m                                 Traceback (most recent call last)",
      "Cell \u001b[0;32mIn[39], line 1\u001b[0m\n\u001b[0;32m----> 1\u001b[0m \u001b[43md6\u001b[49m\u001b[38;5;241;43m.\u001b[39;49m\u001b[43mpop\u001b[49m\u001b[43m(\u001b[49m\u001b[43m)\u001b[49m\n",
      "\u001b[0;31mTypeError\u001b[0m: pop expected at least 1 argument, got 0"
     ]
    }
   ],
   "source": [
    "d6.pop()"
   ]
  },
  {
   "cell_type": "code",
   "execution_count": null,
   "id": "68ab05ad-1fad-4688-bcc6-3d1b464b4243",
   "metadata": {},
   "outputs": [],
   "source": [
    "#Control flow or control flow statement "
   ]
  },
  {
   "cell_type": "code",
   "execution_count": 46,
   "id": "75c3f718-2fb9-447a-a852-b4071e63c689",
   "metadata": {},
   "outputs": [
    {
     "name": "stdout",
     "output_type": "stream",
     "text": [
      "You will be Part of A1 Batch\n"
     ]
    }
   ],
   "source": [
    "marks = 65\n",
    "if marks >= 80:\n",
    "    print(\"You will be Part of A0 Batch\")\n",
    "elif marks >= 60 and marks<80:\n",
    "    print(\"You will be Part of A1 Batch\")\n",
    "elif marks >=40 and marks <60:\n",
    "    print(\"You will be Part of A2 Batch\")\n",
    "else :\n",
    "    print(\"You will be Part of A3 Batch\")\n",
    "      "
   ]
  },
  {
   "cell_type": "code",
   "execution_count": 2,
   "id": "f281b173-2039-4939-9374-f83ed0e6b307",
   "metadata": {},
   "outputs": [
    {
     "name": "stdout",
     "output_type": "stream",
     "text": [
      "You will be Part of A3 Batch\n"
     ]
    }
   ],
   "source": [
    "marks = 10\n",
    "if marks >= 80:\n",
    "    print(\"You will be Part of A0 Batch\")\n",
    "elif marks >= 60 and marks<80:\n",
    "    print(\"You will be Part of A1 Batch\")\n",
    "elif marks >=40 and marks <60:\n",
    "    print(\"You will be Part of A2 Batch\")\n",
    "else :\n",
    "    print(\"You will be Part of A3 Batch\")"
   ]
  },
  {
   "cell_type": "code",
   "execution_count": 4,
   "id": "839da20f-aead-47b1-b6c7-2f9a67bf6931",
   "metadata": {},
   "outputs": [
    {
     "name": "stdin",
     "output_type": "stream",
     "text": [
      "Enter Your Marks '35'\n"
     ]
    },
    {
     "ename": "TypeError",
     "evalue": "'>=' not supported between instances of 'str' and 'int'",
     "output_type": "error",
     "traceback": [
      "\u001b[0;31m---------------------------------------------------------------------------\u001b[0m",
      "\u001b[0;31mTypeError\u001b[0m                                 Traceback (most recent call last)",
      "Cell \u001b[0;32mIn[4], line 2\u001b[0m\n\u001b[1;32m      1\u001b[0m marks \u001b[38;5;241m=\u001b[39m \u001b[38;5;28minput\u001b[39m(\u001b[38;5;124m\"\u001b[39m\u001b[38;5;124mEnter Your Marks\u001b[39m\u001b[38;5;124m\"\u001b[39m)  \u001b[38;5;66;03m# problem is it connverts to string function what ever uyou enter\u001b[39;00m\n\u001b[0;32m----> 2\u001b[0m \u001b[38;5;28;01mif\u001b[39;00m \u001b[43mmarks\u001b[49m\u001b[43m \u001b[49m\u001b[38;5;241;43m>\u001b[39;49m\u001b[38;5;241;43m=\u001b[39;49m\u001b[43m \u001b[49m\u001b[38;5;241;43m80\u001b[39;49m:\n\u001b[1;32m      3\u001b[0m     \u001b[38;5;28mprint\u001b[39m(\u001b[38;5;124m\"\u001b[39m\u001b[38;5;124mYou will be Part of A0 Batch\u001b[39m\u001b[38;5;124m\"\u001b[39m)\n\u001b[1;32m      4\u001b[0m \u001b[38;5;28;01melif\u001b[39;00m marks \u001b[38;5;241m>\u001b[39m\u001b[38;5;241m=\u001b[39m \u001b[38;5;241m60\u001b[39m \u001b[38;5;129;01mand\u001b[39;00m marks\u001b[38;5;241m<\u001b[39m\u001b[38;5;241m80\u001b[39m:\n",
      "\u001b[0;31mTypeError\u001b[0m: '>=' not supported between instances of 'str' and 'int'"
     ]
    }
   ],
   "source": [
    "marks = input(\"Enter Your Marks\")  # problem is it connverts to string function what ever uyou enter\n",
    "if marks >= 80:\n",
    "    print(\"You will be Part of A0 Batch\")\n",
    "elif marks >= 60 and marks<80:\n",
    "    print(\"You will be Part of A1 Batch\")\n",
    "elif marks >=40 and marks <60:\n",
    "    print(\"You will be Part of A2 Batch\")\n",
    "else :\n",
    "    print(\"You will be Part of A3 Batch\")"
   ]
  },
  {
   "cell_type": "code",
   "execution_count": 5,
   "id": "755b8c41-fb52-4912-afc0-040e2ae68b3b",
   "metadata": {},
   "outputs": [
    {
     "data": {
      "text/plain": [
       "\"'35'\""
      ]
     },
     "execution_count": 5,
     "metadata": {},
     "output_type": "execute_result"
    }
   ],
   "source": [
    "marks\n",
    ")"
   ]
  },
  {
   "cell_type": "code",
   "execution_count": 8,
   "id": "effa0689-867c-47bc-9586-b526002f031d",
   "metadata": {},
   "outputs": [
    {
     "name": "stdin",
     "output_type": "stream",
     "text": [
      "Enter Your Marks 45\n"
     ]
    }
   ],
   "source": [
    "marks = input(\"Enter Your Marks\")"
   ]
  },
  {
   "cell_type": "code",
   "execution_count": 9,
   "id": "6126698e-1bb5-4239-9149-3f4359f6eb0f",
   "metadata": {},
   "outputs": [
    {
     "data": {
      "text/plain": [
       "'45'"
      ]
     },
     "execution_count": 9,
     "metadata": {},
     "output_type": "execute_result"
    }
   ],
   "source": [
    "marks"
   ]
  },
  {
   "cell_type": "code",
   "execution_count": 10,
   "id": "8ead03db-3e67-439b-a100-37626ee4e2e0",
   "metadata": {},
   "outputs": [
    {
     "data": {
      "text/plain": [
       "str"
      ]
     },
     "execution_count": 10,
     "metadata": {},
     "output_type": "execute_result"
    }
   ],
   "source": [
    "type(marks)"
   ]
  },
  {
   "cell_type": "code",
   "execution_count": 11,
   "id": "f8248184-6417-46c4-a2cb-64841e8934f2",
   "metadata": {},
   "outputs": [
    {
     "name": "stdin",
     "output_type": "stream",
     "text": [
      "Enter Your Marks 45\n"
     ]
    }
   ],
   "source": [
    "marks = int(input(\"Enter Your Marks\"))"
   ]
  },
  {
   "cell_type": "code",
   "execution_count": 12,
   "id": "ab9ac9f4-7dea-40ee-8a60-96d32795933b",
   "metadata": {},
   "outputs": [
    {
     "data": {
      "text/plain": [
       "int"
      ]
     },
     "execution_count": 12,
     "metadata": {},
     "output_type": "execute_result"
    }
   ],
   "source": [
    "type(marks)"
   ]
  },
  {
   "cell_type": "code",
   "execution_count": 13,
   "id": "2157d0a3-ffdf-4cb1-92cc-95e34d896864",
   "metadata": {},
   "outputs": [
    {
     "name": "stdin",
     "output_type": "stream",
     "text": [
      "Enter Your Marks 45\n"
     ]
    },
    {
     "name": "stdout",
     "output_type": "stream",
     "text": [
      "You will be Part of A2 Batch\n"
     ]
    }
   ],
   "source": [
    "marks = int(input(\"Enter Your Marks\") )\n",
    "if marks >= 80:\n",
    "    print(\"You will be Part of A0 Batch\")\n",
    "elif marks >= 60 and marks<80:\n",
    "    print(\"You will be Part of A1 Batch\")\n",
    "elif marks >=40 and marks <60:\n",
    "    print(\"You will be Part of A2 Batch\")\n",
    "else :\n",
    "    print(\"You will be Part of A3 Batch\")"
   ]
  },
  {
   "cell_type": "code",
   "execution_count": 14,
   "id": "6e675d6b-c6f3-4ad3-98f9-65d5380cbdca",
   "metadata": {},
   "outputs": [
    {
     "name": "stdin",
     "output_type": "stream",
     "text": [
      "Enter Price 500\n"
     ]
    },
    {
     "name": "stdout",
     "output_type": "stream",
     "text": [
      "I will Purchase\n"
     ]
    }
   ],
   "source": [
    "price = int(input(\"Enter Price\"))\n",
    "if price >1000:\n",
    "    print(\"I will not Purchase\")\n",
    "else :\n",
    "    print(\"I will Purchase\")\n"
   ]
  },
  {
   "cell_type": "code",
   "execution_count": 16,
   "id": "bdc2bbd5-7eff-493e-a65d-498ee9329933",
   "metadata": {},
   "outputs": [
    {
     "name": "stdin",
     "output_type": "stream",
     "text": [
      "Enter Price 500\n"
     ]
    }
   ],
   "source": [
    "price = int(input(\"Enter Price\"))\n",
    "if price >1000:\n",
    "    print(\"I will not Purchase\")"
   ]
  },
  {
   "cell_type": "code",
   "execution_count": 17,
   "id": "9b46edca-d836-452b-af91-8d639562c15a",
   "metadata": {},
   "outputs": [
    {
     "name": "stdin",
     "output_type": "stream",
     "text": [
      "Enter Price 7000\n"
     ]
    },
    {
     "name": "stdout",
     "output_type": "stream",
     "text": [
      "I will not Purchase\n"
     ]
    }
   ],
   "source": [
    "price = int(input(\"Enter Price\"))\n",
    "if price >1000:\n",
    "    print(\"I will not Purchase\")"
   ]
  },
  {
   "cell_type": "code",
   "execution_count": 18,
   "id": "0e600a33-537a-4e49-9dad-63336c475cbf",
   "metadata": {},
   "outputs": [
    {
     "name": "stdin",
     "output_type": "stream",
     "text": [
      "Enter Price 7000\n"
     ]
    },
    {
     "name": "stdout",
     "output_type": "stream",
     "text": [
      "I will not Purchase\n",
      "This is too Much\n"
     ]
    }
   ],
   "source": [
    "price = int(input(\"Enter Price\"))\n",
    "if price >1000:\n",
    "    print(\"I will not Purchase\")\n",
    "    if price > 5000:\n",
    "        print(\"This is too Much\")"
   ]
  },
  {
   "cell_type": "code",
   "execution_count": 19,
   "id": "3c6ce263-f02f-4b58-978e-09aa93254880",
   "metadata": {},
   "outputs": [
    {
     "name": "stdin",
     "output_type": "stream",
     "text": [
      "Enter Price 720\n"
     ]
    },
    {
     "name": "stdout",
     "output_type": "stream",
     "text": [
      "I will Purchase\n"
     ]
    }
   ],
   "source": [
    "price = int(input(\"Enter Price\"))\n",
    "if price >1000:\n",
    "    print(\"I will not Purchase\")\n",
    "    if price > 5000:\n",
    "        print(\"This is too Much\")\n",
    "    elif price < 2000:\n",
    "        print(\"It's OK\")\n",
    "elif price < 1000:\n",
    "    print(\"I will Purchase\")\n",
    "else :\n",
    "    print(\"I am Not Interested\")"
   ]
  },
  {
   "cell_type": "code",
   "execution_count": 2,
   "id": "0e4993f4-4e95-407c-b701-1cbf545fd4a9",
   "metadata": {},
   "outputs": [],
   "source": [
    "l = [1,2,3,4,5,6,7,77,8]\n"
   ]
  },
  {
   "cell_type": "code",
   "execution_count": 23,
   "id": "a4e3ed64-f828-4801-8cf4-9e270f571d9e",
   "metadata": {},
   "outputs": [
    {
     "name": "stdout",
     "output_type": "stream",
     "text": [
      "1\n",
      "2\n",
      "3\n",
      "4\n",
      "5\n",
      "6\n",
      "7\n",
      "77\n",
      "8\n"
     ]
    }
   ],
   "source": [
    "for i in l:\n",
    "    print(i)\n"
   ]
  },
  {
   "cell_type": "code",
   "execution_count": 24,
   "id": "a857b286-62c3-4318-8535-7700b99b90ff",
   "metadata": {},
   "outputs": [
    {
     "name": "stdout",
     "output_type": "stream",
     "text": [
      "[1, 2, 3, 4, 5, 6, 7, 77, 8]\n",
      "[1, 2, 3, 4, 5, 6, 7, 77, 8]\n",
      "[1, 2, 3, 4, 5, 6, 7, 77, 8]\n",
      "[1, 2, 3, 4, 5, 6, 7, 77, 8]\n",
      "[1, 2, 3, 4, 5, 6, 7, 77, 8]\n",
      "[1, 2, 3, 4, 5, 6, 7, 77, 8]\n",
      "[1, 2, 3, 4, 5, 6, 7, 77, 8]\n",
      "[1, 2, 3, 4, 5, 6, 7, 77, 8]\n",
      "[1, 2, 3, 4, 5, 6, 7, 77, 8]\n"
     ]
    }
   ],
   "source": [
    "l1[]\n",
    "for i in l:\n",
    "    print(l)"
   ]
  },
  {
   "cell_type": "code",
   "execution_count": 26,
   "id": "7d48cb74-1573-4711-be62-89c601825502",
   "metadata": {},
   "outputs": [
    {
     "ename": "SyntaxError",
     "evalue": "invalid syntax (2365970130.py, line 1)",
     "output_type": "error",
     "traceback": [
      "\u001b[0;36m  Cell \u001b[0;32mIn[26], line 1\u001b[0;36m\u001b[0m\n\u001b[0;31m    l1[]\u001b[0m\n\u001b[0m       ^\u001b[0m\n\u001b[0;31mSyntaxError\u001b[0m\u001b[0;31m:\u001b[0m invalid syntax\n"
     ]
    }
   ],
   "source": [
    "l1[]\n",
    "for i in l:\n",
    "    print(i+1)\n",
    "    l1.append(i+1)\n",
    "  "
   ]
  },
  {
   "cell_type": "code",
   "execution_count": 3,
   "id": "45b76352-ce08-4fec-8f4a-304b5f2de401",
   "metadata": {},
   "outputs": [
    {
     "name": "stdout",
     "output_type": "stream",
     "text": [
      "2\n",
      "3\n",
      "4\n",
      "5\n",
      "6\n",
      "7\n",
      "8\n",
      "78\n",
      "9\n"
     ]
    }
   ],
   "source": [
    "for i in l:\n",
    "    print(i+1)  # add 1 to each value in list"
   ]
  },
  {
   "cell_type": "code",
   "execution_count": 6,
   "id": "853c22e9-dfab-4591-86a8-0a391e4c5aad",
   "metadata": {},
   "outputs": [
    {
     "name": "stdout",
     "output_type": "stream",
     "text": [
      "2\n",
      "3\n",
      "4\n",
      "5\n",
      "6\n",
      "7\n",
      "8\n",
      "78\n",
      "9\n"
     ]
    },
    {
     "data": {
      "text/plain": [
       "[2, 3, 4, 5, 6, 7, 8, 78, 9]"
      ]
     },
     "execution_count": 6,
     "metadata": {},
     "output_type": "execute_result"
    }
   ],
   "source": [
    "l1=[]\n",
    "for i in l:\n",
    "    print(i+1)  # add\n",
    "    l1.append(i+1)\n",
    "    \n",
    "l1    "
   ]
  },
  {
   "cell_type": "code",
   "execution_count": 7,
   "id": "b2fbad01-32f7-437f-94a5-3c984063ef85",
   "metadata": {},
   "outputs": [],
   "source": [
    "l= [\"sudh\",\"kumar\",\"pwskills\",\"course\"]   # convert all into upper case "
   ]
  },
  {
   "cell_type": "code",
   "execution_count": 8,
   "id": "c5c8e35b-0495-4967-a5bc-1e89d7141871",
   "metadata": {},
   "outputs": [
    {
     "ename": "NameError",
     "evalue": "name 'upper' is not defined",
     "output_type": "error",
     "traceback": [
      "\u001b[0;31m---------------------------------------------------------------------------\u001b[0m",
      "\u001b[0;31mNameError\u001b[0m                                 Traceback (most recent call last)",
      "Cell \u001b[0;32mIn[8], line 1\u001b[0m\n\u001b[0;32m----> 1\u001b[0m \u001b[43mupper\u001b[49m(l)\n",
      "\u001b[0;31mNameError\u001b[0m: name 'upper' is not defined"
     ]
    }
   ],
   "source": [
    "upper(l)"
   ]
  },
  {
   "cell_type": "code",
   "execution_count": 9,
   "id": "a99e6386-f15c-4828-9829-9a03b1d1903f",
   "metadata": {},
   "outputs": [
    {
     "name": "stdout",
     "output_type": "stream",
     "text": [
      "sudh\n",
      "kumar\n",
      "pwskills\n",
      "course\n"
     ]
    }
   ],
   "source": [
    "\n",
    "for i in l :\n",
    "    print(i)\n"
   ]
  },
  {
   "cell_type": "code",
   "execution_count": 11,
   "id": "f40a598e-50a3-4e4a-a393-0d691343eb1f",
   "metadata": {},
   "outputs": [
    {
     "name": "stdout",
     "output_type": "stream",
     "text": [
      "sudh\n",
      "kumar\n",
      "pwskills\n",
      "course\n"
     ]
    },
    {
     "data": {
      "text/plain": [
       "['SUDH', 'KUMAR', 'PWSKILLS', 'COURSE']"
      ]
     },
     "execution_count": 11,
     "metadata": {},
     "output_type": "execute_result"
    }
   ],
   "source": [
    "l1 = []\n",
    "for i in l :\n",
    "    print(i)\n",
    "    l1.append(i.upper())\n",
    "l1"
   ]
  },
  {
   "cell_type": "code",
   "execution_count": 15,
   "id": "83691ff8-2d62-447e-9931-873ce53fa1b5",
   "metadata": {},
   "outputs": [],
   "source": [
    "l = [1,2,3,4,4,\"sudh\",\"kumar\",324,34.876,\"abc\"]"
   ]
  },
  {
   "cell_type": "code",
   "execution_count": 21,
   "id": "b99072c6-c685-42d2-a5c8-f19ab65cf7dd",
   "metadata": {},
   "outputs": [],
   "source": [
    "l1_num = []\n",
    "l2_str = []\n",
    "for i in l:\n",
    "    if type(i) == int or type(i) == float:\n",
    "        l1_num.append(i)\n",
    "    else :\n",
    "        l2_str.append(i.upper())\n",
    " "
   ]
  },
  {
   "cell_type": "code",
   "execution_count": 17,
   "id": "4f760ea0-13cc-4358-92dd-775a73fd9377",
   "metadata": {},
   "outputs": [
    {
     "data": {
      "text/plain": [
       "[1, 2, 3, 4, 4, 324, 34.876]"
      ]
     },
     "execution_count": 17,
     "metadata": {},
     "output_type": "execute_result"
    }
   ],
   "source": [
    "l1_num"
   ]
  },
  {
   "cell_type": "code",
   "execution_count": 22,
   "id": "2e4fd9c5-02e9-446e-b5d1-af942dd7eb86",
   "metadata": {},
   "outputs": [
    {
     "data": {
      "text/plain": [
       "['SUDH', 'KUMAR', 'ABC']"
      ]
     },
     "execution_count": 22,
     "metadata": {},
     "output_type": "execute_result"
    }
   ],
   "source": [
    "l2_str"
   ]
  },
  {
   "cell_type": "code",
   "execution_count": null,
   "id": "fa4c3ade-d0c1-4761-b5bf-ccc88e851167",
   "metadata": {},
   "outputs": [],
   "source": []
  }
 ],
 "metadata": {
  "kernelspec": {
   "display_name": "Python 3 (ipykernel)",
   "language": "python",
   "name": "python3"
  },
  "language_info": {
   "codemirror_mode": {
    "name": "ipython",
    "version": 3
   },
   "file_extension": ".py",
   "mimetype": "text/x-python",
   "name": "python",
   "nbconvert_exporter": "python",
   "pygments_lexer": "ipython3",
   "version": "3.10.8"
  }
 },
 "nbformat": 4,
 "nbformat_minor": 5
}
